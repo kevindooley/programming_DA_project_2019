{
 "cells": [
  {
   "cell_type": "markdown",
   "metadata": {},
   "source": [
    "# Programming for Data Analysis Project 2019\n",
    "### By Kevin Dooley"
   ]
  },
  {
   "cell_type": "markdown",
   "metadata": {},
   "source": [
    "# Title: Tutorial/Review on the 'numpy' package in Python"
   ]
  },
  {
   "cell_type": "markdown",
   "metadata": {},
   "source": [
    "### What is NumPy?\n",
    "NimPy stands for Numerical Python and is a library consisting of multidimensional array objects with a collection of functions of processing those arrays. NumPy is a fundamental package for scientific computing with Python. \n",
    "\n",
    "NumPy is usually used in combination with packages like SciPy and Matplotlib when completing aspects of data analysis.\n",
    "\n",
    "\n",
    "In this tutorial, I will explain the basics of NumPy such as its architecture and environment."
   ]
  },
  {
   "cell_type": "markdown",
   "metadata": {},
   "source": [
    "### How to install Numpy?\n",
    "I recommend downloading Python through Anaconda which comes with Numpy already built in. You can also download NumPy separately through (link)."
   ]
  },
  {
   "cell_type": "markdown",
   "metadata": {},
   "source": [
    "### Getting started with NumPy\n",
    "The first step is to import Numpy and supporting python packages."
   ]
  },
  {
   "cell_type": "code",
   "execution_count": 1,
   "metadata": {},
   "outputs": [],
   "source": [
    "import numpy as np\n",
    "import matplotlib.pyplot as plt\n",
    "import seaborn as sn\n",
    "\n",
    "# notice abbreviations for each package as these will be used throughout the jupyter notebook"
   ]
  },
  {
   "cell_type": "markdown",
   "metadata": {},
   "source": [
    "### Simple random data\n",
    "#### Define Simple random data\n",
    "Simple random data is set of n objects in a population of N objects where all possible samples are equally likely to happen. Basically it means that any set of numbers in a statistical population has an equal and independent probibility of being selected. A real life example of this is the lottery."
   ]
  },
  {
   "cell_type": "code",
   "execution_count": 2,
   "metadata": {},
   "outputs": [
    {
     "name": "stdout",
     "output_type": "stream",
     "text": [
      "1D Array \n",
      " [0.10025274 0.94629853] \n",
      "\n",
      "2D Array \n",
      " [[0.89719305 0.16550034 0.4319761 ]\n",
      " [0.82536898 0.61672632 0.18118643]] \n",
      "\n",
      "3D array \n",
      " [[[5.39560562e-01 7.57730110e-01 1.95834304e-01]\n",
      "  [3.23424171e-04 5.66945930e-01 1.53652064e-01]\n",
      "  [1.04574006e-01 9.52703036e-01 7.11013379e-01]]\n",
      "\n",
      " [[8.05641831e-01 2.34215138e-01 1.01669117e-01]\n",
      "  [4.08284276e-03 4.91564552e-01 1.81474409e-02]\n",
      "  [5.82180556e-02 8.71116357e-01 5.81823602e-01]]\n",
      "\n",
      " [[3.17374147e-01 9.34366461e-02 6.06987793e-01]\n",
      "  [6.98387409e-02 5.69658257e-01 9.07578400e-01]\n",
      "  [7.06595364e-02 6.79992601e-01 9.62688109e-01]]] \n",
      "\n"
     ]
    }
   ],
   "source": [
    "# numpy.random has many different built in functions to demonstrate matrix arrays\n",
    "# the first one I will demonstrate is np.random.rand()\n",
    "# this function generates random values in a given shape depending on the input from the user\n",
    "# the function can output multidimensional arrays of random numbers\n",
    "# numpy.random.rand creates a ndarry of the given shape and populates it with random samples of a uniform distribution\n",
    "# \"\\n\" used to format arrays - creates a new line\n",
    "\n",
    "# 1 input of the same object type = 1D array\n",
    "print(\"1D Array\",\"\\n\",np.random.rand(2), \"\\n\")\n",
    "\n",
    "# 2 inputs of the same object type = 2D array\n",
    "print(\"2D Array\",\"\\n\",np.random.rand(2, 3), \"\\n\")\n",
    "\n",
    "# 3 inputs of the same object type = 3D array\n",
    "print(\"3D array\",\"\\n\",np.random.rand(3, 3, 3), \"\\n\")\n"
   ]
  },
  {
   "cell_type": "code",
   "execution_count": 3,
   "metadata": {},
   "outputs": [
    {
     "data": {
      "image/png": "[encoded data removed]",
      "text/plain": [
       "<Figure size 432x288 with 1 Axes>"
      ]
     },
     "metadata": {
      "needs_background": "light"
     },
     "output_type": "display_data"
    }
   ],
   "source": [
    "# histogram to show 'rand' function demonstrates uniform distribution\n",
    "# using 2D array as example\n",
    "\n",
    "plt.hist(np.random.rand(2,3))\n",
    "plt.show()"
   ]
  },
  {
   "cell_type": "code",
   "execution_count": 4,
   "metadata": {},
   "outputs": [
    {
     "name": "stdout",
     "output_type": "stream",
     "text": [
      "2D array \n",
      " [[ 2.33914101  0.17123439 -0.84125331]\n",
      " [-0.49880486 -1.25512161 -1.84541286]] \n",
      "\n",
      "Manipulated 2D array \n",
      " [[ 1.52013692 -1.43817309 -0.69790533]\n",
      " [-3.12414753 -2.28856673  5.63302732]]\n"
     ]
    }
   ],
   "source": [
    "# 'randn' - output of a random number from standard normal distribution.\n",
    "# d0, d1, ..., dn : [int, optional]Dimension of the returned array we require \n",
    "# positive int returns a random float in univariate/normal distribution centred around 0\n",
    "\n",
    "# 2D array - 2 rows & 3 colummns\n",
    "print(\"2D array\", \"\\n\",np.random.randn(2, 3), \"\\n\")\n",
    "\n",
    "# 'randn' arrays can be manipulated\n",
    "# 2D array * 2\n",
    "print(\"Manipulated 2D array\", \"\\n\", np.random.randn(2, 3) * 2)\n"
   ]
  },
  {
   "cell_type": "code",
   "execution_count": 5,
   "metadata": {},
   "outputs": [
    {
     "data": {
      "image/png": "[encoded data removed]",
      "text/plain": [
       "<Figure size 432x288 with 1 Axes>"
      ]
     },
     "metadata": {
      "needs_background": "light"
     },
     "output_type": "display_data"
    }
   ],
   "source": [
    "# histogram to show 'randn' function demonstrates normal distribution \n",
    "# 2D array as example\n",
    "\n",
    "plt.hist(np.random.randn(5,4))\n",
    "plt.show()"
   ]
  },
  {
   "cell_type": "code",
   "execution_count": 6,
   "metadata": {},
   "outputs": [
    {
     "name": "stdout",
     "output_type": "stream",
     "text": [
      "Type of the array <class 'int'> \n",
      "\n",
      "Random Integer: 14 \n",
      "\n",
      "Random Integer: 11 \n",
      "\n",
      "Random Array of Integers: [ 3  3  5 11  9]\n"
     ]
    }
   ],
   "source": [
    "# 'randint' is another function in numpy.random\n",
    "# returns random integers from lowest number to highest number\n",
    "#the lowest number entered by the user is included in the returned array but the highest number is excluded\n",
    "# function can take upto 3 inputs\n",
    "\n",
    "#type returns integer or ndarry or ints depending on input\n",
    "#class is an integer\n",
    "print(\"Type of the array\", type(np.random.randint(1)), \"\\n\")\n",
    "\n",
    "#output - random number exluding 15\n",
    "print(\"Random Integer:\", np.random.randint(15), \"\\n\")\n",
    "\n",
    "#output - random number between (3, 15), including 3 but excluding 15\n",
    "print(\"Random Integer:\", np.random.randint(3, 15), \"\\n\")\n",
    "\n",
    "#output - random array of numbers (3, 15, 5)\n",
    "# 3rd input determines the amount of integers within the selected parameters\n",
    "print(\"Random Array of Integers:\", np.random.randint(3, 15, 5))"
   ]
  },
  {
   "cell_type": "code",
   "execution_count": 7,
   "metadata": {},
   "outputs": [
    {
     "name": "stdout",
     "output_type": "stream",
     "text": [
      "1D array : 0.19057999775407253\n"
     ]
    }
   ],
   "source": [
    "#other functions in the numpy.random package that complete the same task\n",
    "#numpy.random.random_sample, numpy.random.ranf, numpy.random.random and numpy.random.sample are very similiar\n",
    "#example of numpy.random.sample\n",
    "# function returns floating point number in a specific shape in the half open intervel [0.0, 1.0)\n",
    "\n",
    "print(\"1D array :\", np.random.random_sample(size=None))\n",
    "# no value enytered so single value is automatically returned\n"
   ]
  },
  {
   "cell_type": "markdown",
   "metadata": {},
   "source": [
    "##### Random data permutations\n",
    "\n",
    "The ordering of a set of objects that is fundamental to field sthat used randomised algorithms such as coding and cryptograpy. A modern example of this is shuffling a 52 deck of cards.\n",
    "\n",
    "Permutation functions have the capability to arrange a set of numbers into another random sequence. There are two tyoes of permutated functions - random.permutation and random.shuffle."
   ]
  },
  {
   "cell_type": "code",
   "execution_count": 8,
   "metadata": {},
   "outputs": [
    {
     "name": "stdout",
     "output_type": "stream",
     "text": [
      "Permuted 1D array: [5 1 0 4 3 2] \n",
      "\n",
      "Permuted 1D array: [5 6 3 4]\n"
     ]
    }
   ],
   "source": [
    "# np.random.permutation() randomly permutes a sequence/returns a permuted range\n",
    "#if x in an integer, the function will randomly permute np.arrange(x)\n",
    "\n",
    "#example permutation(integer) = array of numbers 0 to 5 in a random sequence\n",
    "print(\"Permuted 1D array:\",np.random.permutation(6), \"\\n\")\n",
    "\n",
    "#example permutation(array) = copied array but changed order\n",
    "print(\"Permuted 1D array:\", np.random.permutation([3, 6, 4, 5]))"
   ]
  },
  {
   "cell_type": "code",
   "execution_count": 9,
   "metadata": {},
   "outputs": [
    {
     "name": "stdout",
     "output_type": "stream",
     "text": [
      "Shuffled 1D array [13  6  8  2 14  1 10 11 12  5  9  3  0  7  4] \n",
      "\n",
      "Shuffled 2D array \n",
      " [[ 0  1  2  3  4]\n",
      " [ 5  6  7  8  9]\n",
      " [10 11 12 13 14]] \n",
      "\n"
     ]
    }
   ],
   "source": [
    "#numpy.random.shuffle()\n",
    "#function modifies a sequence in-place by shuffling its contents\n",
    "#Array only shuffled along the first axis of multidimensional arrays\n",
    "#sub arrays order changed but contents remian the same\n",
    "\n",
    "#numbers in array randomly changed form 0 to 15\n",
    "x1 = np.arange(15)\n",
    "np.random.shuffle(x1)\n",
    "print(\"Shuffled 1D array\", x1, \"\\n\")\n",
    "\n",
    "#multidimensional array\n",
    "#the order of each row changes each time algorithm is run. Contenst in each row remainS the same.\n",
    "x2 = np.arange(15).reshape(3,5)\n",
    "np.random.shuffle(x2)\n",
    "print(\"Shuffled 2D array\", \"\\n\", x2, \"\\n\")\n"
   ]
  },
  {
   "cell_type": "markdown",
   "metadata": {},
   "source": [
    "#### Distribution Functions\n",
    "In this section of the tutorial, I will discuss five Distribution functions. They will include:\n",
    "* binomial\n",
    "* exponential\n",
    "* multivariate_normal\n",
    "* normal\n",
    "* uniform\n",
    "* standard_normal"
   ]
  },
  {
   "cell_type": "markdown",
   "metadata": {},
   "source": [
    "### Binomial Distribution\n",
    "The binomial distribution model deals with finding the probability of success of an event which has only two possible outcomes in a series of experiments. The most known example of binomial probability is 'coin flipping' in which only heads/tails are the possible options.\n",
    "\n",
    "A Binomial distribution as two assumptions.\n",
    "\n",
    "* The Probability of a success or failure should remain constant across events\n",
    "* Outcome of one event is completely independent of outcomes of other events"
   ]
  },
  {
   "cell_type": "code",
   "execution_count": 28,
   "metadata": {},
   "outputs": [
    {
     "name": "stdout",
     "output_type": "stream",
     "text": [
      "[268 253 248 255 264 262 254 244 255 270 277 255 234 239 265 249 251 256\n",
      " 264 244]\n"
     ]
    }
   ],
   "source": [
    "#np.random.binomial(n, p, size)\n",
    "#n = number of trials\n",
    "#p = probability of success\n",
    "# size = times tested\n",
    "\n",
    "binom = np.random.binomial(500, .5, 20)\n",
    "print(binom)\n",
    "#the result of the above function is consistent with probability of 50% \n",
    "# ie 268/500 = 53.6% & 50.6% etc"
   ]
  },
  {
   "cell_type": "code",
   "execution_count": 29,
   "metadata": {},
   "outputs": [],
   "source": [
    "from scipy.stats import binom"
   ]
  },
  {
   "cell_type": "code",
   "execution_count": 34,
   "metadata": {},
   "outputs": [
    {
     "data": {
      "image/png": "[encoded data removed]",
      "text/plain": [
       "<Figure size 432x288 with 1 Axes>"
      ]
     },
     "metadata": {
      "needs_background": "light"
     },
     "output_type": "display_data"
    }
   ],
   "source": [
    "random_binom = binom.rvs(n=20, p=.8, size=10, loc=0)\n",
    "plt.hist(random_binom)\n",
    "plt.show()"
   ]
  },
  {
   "cell_type": "code",
   "execution_count": null,
   "metadata": {},
   "outputs": [],
   "source": []
  },
  {
   "cell_type": "code",
   "execution_count": null,
   "metadata": {},
   "outputs": [],
   "source": []
  },
  {
   "cell_type": "code",
   "execution_count": null,
   "metadata": {},
   "outputs": [],
   "source": []
  }
 ],
 "metadata": {
  "kernelspec": {
   "display_name": "Python 3",
   "language": "python",
   "name": "python3"
  },
  "language_info": {
   "codemirror_mode": {
    "name": "ipython",
    "version": 3
   },
   "file_extension": ".py",
   "mimetype": "text/x-python",
   "name": "python",
   "nbconvert_exporter": "python",
   "pygments_lexer": "ipython3",
   "version": "3.7.1"
  }
 },
 "nbformat": 4,
 "nbformat_minor": 2
}
