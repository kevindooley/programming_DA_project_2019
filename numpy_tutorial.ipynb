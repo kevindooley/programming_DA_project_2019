{
 "cells": [
  {
   "cell_type": "markdown",
   "metadata": {},
   "source": [
    "# Programming for Data Analysis Project 2019\n",
    "### By Kevin Dooley"
   ]
  },
  {
   "cell_type": "markdown",
   "metadata": {},
   "source": [
    "# Title: Tutorial/Review on the 'numpy' package in Python"
   ]
  },
  {
   "cell_type": "markdown",
   "metadata": {},
   "source": [
    "### What is NumPy?\n",
    "NimPy stands for Numerical Python and is a library consisting of multidimensional array objects with a collection of functions of processing those arrays. NumPy is a fundamental package for scientific computing with Python. \n",
    "\n",
    "NumPy is usually used in combination with packages like SciPy and Matplotlib when completing aspects of data analysis.\n",
    "\n",
    "\n",
    "In this tutorial, I will explain the basics of NumPy such as its architecture and environment."
   ]
  },
  {
   "cell_type": "markdown",
   "metadata": {},
   "source": [
    "### How to install Numpy?\n",
    "I recommend downloading Python through Anaconda which comes with Numpy already built in. You can also download NumPy separately through (link)."
   ]
  },
  {
   "cell_type": "markdown",
   "metadata": {},
   "source": [
    "### Getting started with NumPy\n",
    "The first step is to import Numpy and supporting python packages."
   ]
  },
  {
   "cell_type": "code",
   "execution_count": 1,
   "metadata": {},
   "outputs": [],
   "source": [
    "import numpy as np\n",
    "import matplotlib.pyplot as plt\n",
    "import seaborn as sn\n",
    "\n",
    "# notice abbreviations for each package as these will be used throughout the jupyter notebook"
   ]
  },
  {
   "cell_type": "markdown",
   "metadata": {},
   "source": [
    "### Simple random data\n",
    "#### Define Simple random data\n",
    "Simple random data is set of n objects in a population of N objects where all possible samples are equally likely to happen. Basically it means that any set of numbers in a statistical population has an equal and independent probibility of being selected. A real life example of this is the lottery."
   ]
  },
  {
   "cell_type": "code",
   "execution_count": 2,
   "metadata": {},
   "outputs": [
    {
     "name": "stdout",
     "output_type": "stream",
     "text": [
      "1D Array \n",
      " [0.8368228  0.67393692] \n",
      "\n",
      "2D Array \n",
      " [[0.10845753 0.76068017 0.2474929 ]\n",
      " [0.63766952 0.71753521 0.58621506]] \n",
      "\n",
      "3D array \n",
      " [[[0.72760199 0.26060373 0.8430459 ]\n",
      "  [0.25767397 0.1477908  0.09894717]\n",
      "  [0.82193957 0.32079963 0.59196739]]\n",
      "\n",
      " [[0.01807982 0.02980778 0.71846844]\n",
      "  [0.03160406 0.24455422 0.03332439]\n",
      "  [0.41187281 0.73151794 0.51668972]]\n",
      "\n",
      " [[0.77203816 0.46193156 0.53721583]\n",
      "  [0.34476962 0.98982035 0.1131513 ]\n",
      "  [0.98769228 0.4376697  0.22806655]]] \n",
      "\n"
     ]
    }
   ],
   "source": [
    "# numpy.random has many different built in functions to demonstrate matrix arrays\n",
    "# the first one I will demonstrate is np.random.rand()\n",
    "# this function generates random values in a given shape depending on the input from the user\n",
    "# the function can output multidimensional arrays of random numbers\n",
    "# numpy.random.rand creates a ndarry of the given shape and populates it with random samples of a uniform distribution\n",
    "# \"\\n\" used to format arrays - creates a new line\n",
    "\n",
    "# 1 input of the same object type = 1D array\n",
    "print(\"1D Array\",\"\\n\",np.random.rand(2), \"\\n\")\n",
    "\n",
    "# 2 inputs of the same object type = 2D array\n",
    "print(\"2D Array\",\"\\n\",np.random.rand(2, 3), \"\\n\")\n",
    "\n",
    "# 3 inputs of the same object type = 3D array\n",
    "print(\"3D array\",\"\\n\",np.random.rand(3, 3, 3), \"\\n\")\n"
   ]
  },
  {
   "cell_type": "code",
   "execution_count": 10,
   "metadata": {},
   "outputs": [
    {
     "data": {
      "image/png": "[encoded data removed]",
      "text/plain": [
       "<Figure size 432x288 with 1 Axes>"
      ]
     },
     "metadata": {
      "needs_background": "light"
     },
     "output_type": "display_data"
    }
   ],
   "source": [
    "# histogram to show 'rand' function demonstrates uniform distribution\n",
    "# using 2D array as example\n",
    "\n",
    "plt.hist(np.random.rand(2,3))\n",
    "plt.show()"
   ]
  },
  {
   "cell_type": "code",
   "execution_count": null,
   "metadata": {},
   "outputs": [],
   "source": [
    "np.random.randn(1, 3)\n",
    "\n",
    "# this function results in the output of a number from standard normal distribution."
   ]
  },
  {
   "cell_type": "code",
   "execution_count": null,
   "metadata": {},
   "outputs": [],
   "source": [
    "# numpy.random.rand() is another built in function that creates an array and specific shape with random values as per standard distibution."
   ]
  },
  {
   "cell_type": "code",
   "execution_count": null,
   "metadata": {},
   "outputs": [],
   "source": [
    "d0, d1, ..., dn : [int, optional]Dimension of the returned array we require, \n",
    "     If no argument is given a single Python float is returned."
   ]
  },
  {
   "cell_type": "code",
   "execution_count": null,
   "metadata": {},
   "outputs": [],
   "source": [
    "# d0, d1, ..., dn : [int, optional]Dimension of the returned array we require,  If no argument is given a single Python float is returned.\n",
    "## Array of defined shape, filled with random floating-point samples from  the standard normal distribution."
   ]
  },
  {
   "cell_type": "code",
   "execution_count": null,
   "metadata": {},
   "outputs": [],
   "source": []
  }
 ],
 "metadata": {
  "kernelspec": {
   "display_name": "Python 3",
   "language": "python",
   "name": "python3"
  },
  "language_info": {
   "codemirror_mode": {
    "name": "ipython",
    "version": 3
   },
   "file_extension": ".py",
   "mimetype": "text/x-python",
   "name": "python",
   "nbconvert_exporter": "python",
   "pygments_lexer": "ipython3",
   "version": "3.7.1"
  }
 },
 "nbformat": 4,
 "nbformat_minor": 2
}
