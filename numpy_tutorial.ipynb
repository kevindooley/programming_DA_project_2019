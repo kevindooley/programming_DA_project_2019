{
 "cells": [
  {
   "cell_type": "markdown",
   "metadata": {},
   "source": [
    "# Programming for Data Analysis Project 2019\n",
    "### By Kevin Dooley"
   ]
  },
  {
   "cell_type": "markdown",
   "metadata": {},
   "source": [
    "# Title: Tutorial/Review on the 'NumPy' package in Python"
   ]
  },
  {
   "cell_type": "markdown",
   "metadata": {},
   "source": [
    "##### What is NumPy?\n",
    "NimPy stands for Numerical Python and is a library consisting of multidimensional array objects with a collection of functions of processing those arrays. NumPy is a fundamental package for scientific computing with Python. \n",
    "\n",
    "The Numpy documentation defines it as:\n",
    "- a powerful N-dimensional array object\n",
    "- sophisticated (broadcasting) functions\n",
    "- tools for integrating C/C++ and Fortran code\n",
    "- useful linear algebra, Fourier transform, and random number capabilities\n",
    "\n",
    "NumPy is usually used in combination with packages like SciPy and Matplotlib when completing aspects of data analysis.\n",
    "\n",
    "\n",
    "In this tutorial, I will explain the basics of NumPy such as its subpackages and capabilities.\n",
    "\n",
    "NumPy has two important aspects: arrays and number generation. Both of which which will be discussed in this tutorial.\n",
    "\n",
    "NumPy is the Python package of choice for data analysis compared to normal built in Python Core Library of lists. This is because 'real world' datasets are usually built as matrices and it is much easier to open those with NumPy instead of working with list of lists. NumPy takes up less memory space and has improved performance compared to the standard library. Numpy also has optimied functions such as linear algebra built into it which make is an overall more attractive package."
   ]
  },
  {
   "cell_type": "markdown",
   "metadata": {},
   "source": [
    "##### NumPy Arrays\n",
    "Homogeneous multidimensional arrays  are the main objects and foundations of this package. They are in classes called 'ndarrays' and are basically a set of numbers, all of the same type and are indexed by a tuple of nonnegative integers. The dimensions and items of the ndarray are defined by its shape and type of items definded as dtype. Similar to lists in Python, objects in ndarrys can be indexed and sliced."
   ]
  },
  {
   "cell_type": "code",
   "execution_count": 4,
   "metadata": {},
   "outputs": [
    {
     "name": "stdout",
     "output_type": "stream",
     "text": [
      "This is a list [2, 4, 6, 8] \n",
      "\n",
      "The is an Vector [2 4 6 8]\n"
     ]
    },
    {
     "data": {
      "text/plain": [
       "numpy.ndarray"
      ]
     },
     "execution_count": 4,
     "metadata": {},
     "output_type": "execute_result"
    }
   ],
   "source": [
    "import numpy as np # numpy package abbreviated to np\n",
    "#np.array - creates an array\n",
    "#syntax = array(object, dtype = None, copy = True, order = 'K', subok = False, ndmin = 0)\n",
    "#if data type not provided -  \n",
    "#numpy array - 1-d (vector), 2-d/3-d (matrix)\n",
    "\n",
    "#normal list prints\n",
    "new_list = [2, 4, 6, 8]\n",
    "print((\"This is a list\"), new_list, \"\\n\") # line spacing\n",
    "\n",
    "#ndarray prints from list (1-d)\n",
    "my_list = [2, 4, 6, 8]\n",
    "a = np.array(my_list)\n",
    "print(\"The is an Vector\", a)\n",
    "\n",
    "type(a) # verify it is an array"
   ]
  },
  {
   "cell_type": "code",
   "execution_count": 58,
   "metadata": {},
   "outputs": [
    {
     "name": "stdout",
     "output_type": "stream",
     "text": [
      "This is a Matrix \n",
      " [[1 2 3]\n",
      " [4 5 6]\n",
      " [7 8 9]]\n"
     ]
    },
    {
     "data": {
      "text/plain": [
       "numpy.ndarray"
      ]
     },
     "execution_count": 58,
     "metadata": {},
     "output_type": "execute_result"
    }
   ],
   "source": [
    "#ndarray prints from lists\n",
    "matrix = [[1, 2, 3],[4, 5, 6],[7, 8, 9]]\n",
    "x =np.array(matrix)\n",
    "print((\"This is a Matrix\"),(\"\\n\"), x) # line spacing\n",
    "\n",
    "type(x) # shows matrix is a ndarray"
   ]
  },
  {
   "cell_type": "code",
   "execution_count": 57,
   "metadata": {},
   "outputs": [
    {
     "data": {
      "text/plain": [
       "array([ 3. ,  6.1,  9.2, 12.3])"
      ]
     },
     "execution_count": 57,
     "metadata": {},
     "output_type": "execute_result"
    }
   ],
   "source": [
    "#np.arange(start=None, stop=None, step=None, dtype=None)\n",
    "#np.arrange useful for creating large dimensional matrices\n",
    "#np.arange() - 1 dimensional\n",
    "#np.arange.rshape() - 2/3 dimensional\n",
    "np.arange (3, 15, 3.1) # start 3(inclusive), stop 15(exclusive), step, dtype - float because of step\n"
   ]
  },
  {
   "cell_type": "markdown",
   "metadata": {},
   "source": [
    "These are just some small examples of different types of arrays in Numpy. We have seen different examples of arrays in Numpy. The arrays will be used in the genration of so called random numbers."
   ]
  },
  {
   "cell_type": "markdown",
   "metadata": {},
   "source": [
    "### Getting started with NumPy\n",
    "The first step is to import the supporting python packages that work in conjection with NumPy"
   ]
  },
  {
   "cell_type": "code",
   "execution_count": 2,
   "metadata": {},
   "outputs": [],
   "source": [
    "#numpy imported above\n",
    "import matplotlib.pyplot as plt\n",
    "import seaborn as sn\n",
    "\n",
    "# notice abbreviations for each package as these will be used throughout the jupyter notebook"
   ]
  },
  {
   "cell_type": "markdown",
   "metadata": {},
   "source": [
    "### Simple random data\n",
    "#### Define Simple random data\n",
    "Simple random data is set of n objects in a population of N objects where all possible samples are equally likely to happen. Basically it means that any set of numbers in a statistical population has an equal and independent probibility of being selected. A real life example of this is the lottery."
   ]
  },
  {
   "cell_type": "code",
   "execution_count": 2,
   "metadata": {},
   "outputs": [
    {
     "name": "stdout",
     "output_type": "stream",
     "text": [
      "1D Array \n",
      " [0.10025274 0.94629853] \n",
      "\n",
      "2D Array \n",
      " [[0.89719305 0.16550034 0.4319761 ]\n",
      " [0.82536898 0.61672632 0.18118643]] \n",
      "\n",
      "3D array \n",
      " [[[5.39560562e-01 7.57730110e-01 1.95834304e-01]\n",
      "  [3.23424171e-04 5.66945930e-01 1.53652064e-01]\n",
      "  [1.04574006e-01 9.52703036e-01 7.11013379e-01]]\n",
      "\n",
      " [[8.05641831e-01 2.34215138e-01 1.01669117e-01]\n",
      "  [4.08284276e-03 4.91564552e-01 1.81474409e-02]\n",
      "  [5.82180556e-02 8.71116357e-01 5.81823602e-01]]\n",
      "\n",
      " [[3.17374147e-01 9.34366461e-02 6.06987793e-01]\n",
      "  [6.98387409e-02 5.69658257e-01 9.07578400e-01]\n",
      "  [7.06595364e-02 6.79992601e-01 9.62688109e-01]]] \n",
      "\n"
     ]
    }
   ],
   "source": [
    "# numpy.random has many different built in functions to demonstrate matrix arrays\n",
    "# the first one I will demonstrate is np.random.rand()\n",
    "# this function generates random values in a given shape depending on the input from the user\n",
    "# the function can output multidimensional arrays of random numbers\n",
    "# numpy.random.rand creates a ndarry of the given shape and populates it with random samples of a uniform distribution\n",
    "# \"\\n\" used to format arrays - creates a new line\n",
    "\n",
    "# 1 input of the same object type = 1D array\n",
    "print(\"1D Array\",\"\\n\",np.random.rand(2), \"\\n\")\n",
    "\n",
    "# 2 inputs of the same object type = 2D array\n",
    "print(\"2D Array\",\"\\n\",np.random.rand(2, 3), \"\\n\")\n",
    "\n",
    "# 3 inputs of the same object type = 3D array\n",
    "print(\"3D array\",\"\\n\",np.random.rand(3, 3, 3), \"\\n\")\n"
   ]
  },
  {
   "cell_type": "code",
   "execution_count": 3,
   "metadata": {},
   "outputs": [
    {
     "data": {
      "image/png": "[encoded data removed]",
      "text/plain": [
       "<Figure size 432x288 with 1 Axes>"
      ]
     },
     "metadata": {
      "needs_background": "light"
     },
     "output_type": "display_data"
    }
   ],
   "source": [
    "# histogram to show 'rand' function demonstrates uniform distribution\n",
    "# using 2D array as example\n",
    "\n",
    "plt.hist(np.random.rand(2,3))\n",
    "plt.show()"
   ]
  },
  {
   "cell_type": "code",
   "execution_count": 4,
   "metadata": {},
   "outputs": [
    {
     "name": "stdout",
     "output_type": "stream",
     "text": [
      "2D array \n",
      " [[ 2.33914101  0.17123439 -0.84125331]\n",
      " [-0.49880486 -1.25512161 -1.84541286]] \n",
      "\n",
      "Manipulated 2D array \n",
      " [[ 1.52013692 -1.43817309 -0.69790533]\n",
      " [-3.12414753 -2.28856673  5.63302732]]\n"
     ]
    }
   ],
   "source": [
    "# 'randn' - output of a random number from standard normal distribution.\n",
    "# d0, d1, ..., dn : [int, optional]Dimension of the returned array we require \n",
    "# positive int returns a random float in univariate/normal distribution centred around 0\n",
    "\n",
    "# 2D array - 2 rows & 3 colummns\n",
    "print(\"2D array\", \"\\n\",np.random.randn(2, 3), \"\\n\")\n",
    "\n",
    "# 'randn' arrays can be manipulated\n",
    "# 2D array * 2\n",
    "print(\"Manipulated 2D array\", \"\\n\", np.random.randn(2, 3) * 2)\n"
   ]
  },
  {
   "cell_type": "code",
   "execution_count": 5,
   "metadata": {},
   "outputs": [
    {
     "data": {
      "image/png": "[encoded data removed]",
      "text/plain": [
       "<Figure size 432x288 with 1 Axes>"
      ]
     },
     "metadata": {
      "needs_background": "light"
     },
     "output_type": "display_data"
    }
   ],
   "source": [
    "# histogram to show 'randn' function demonstrates normal distribution \n",
    "# 2D array as example\n",
    "\n",
    "plt.hist(np.random.randn(5,4))\n",
    "plt.show()"
   ]
  },
  {
   "cell_type": "code",
   "execution_count": 5,
   "metadata": {},
   "outputs": [
    {
     "name": "stdout",
     "output_type": "stream",
     "text": [
      "Type of the array <class 'int'> \n",
      "\n",
      "Random Integer: 3 \n",
      "\n",
      "Random Integer: 13 \n",
      "\n",
      "Random Array of Integers: [ 5 14  5  6  6]\n"
     ]
    }
   ],
   "source": [
    "# 'randint' is another function in numpy.random\n",
    "# returns random integers from lowest number to highest number\n",
    "#the lowest number entered by the user is included in the returned array but the highest number is excluded\n",
    "# function can take upto 3 inputs\n",
    "\n",
    "#type returns integer or ndarry of ints depending on input\n",
    "#class is an integer\n",
    "print(\"Type of the array\", type(np.random.randint(1)), \"\\n\")\n",
    "\n",
    "#output - random number exluding 15\n",
    "print(\"Random Integer:\", np.random.randint(15), \"\\n\")\n",
    "\n",
    "#output - random number between (3, 15), including 3 but excluding 15\n",
    "print(\"Random Integer:\", np.random.randint(3, 15), \"\\n\")\n",
    "\n",
    "#output - random array of numbers (3, 15, 5)\n",
    "# 3rd input determines the amount of integers within the selected parameters\n",
    "print(\"Random Array of Integers:\", np.random.randint(3, 15, 5))"
   ]
  },
  {
   "cell_type": "code",
   "execution_count": 6,
   "metadata": {},
   "outputs": [
    {
     "name": "stdout",
     "output_type": "stream",
     "text": [
      "1D array : 0.9847316498213545\n"
     ]
    }
   ],
   "source": [
    "#other functions in the numpy.random package that complete the same task\n",
    "#numpy.random.random_sample, numpy.random.ranf, numpy.random.random and numpy.random.sample are very similiar\n",
    "#example of numpy.random.sample\n",
    "# function returns floating point number in a specific shape in the half open intervel [0.0, 1.0)\n",
    "\n",
    "print(\"1D array :\", np.random.random_sample(size=None))\n",
    "# no value entered so single value is automatically returned\n"
   ]
  },
  {
   "cell_type": "code",
   "execution_count": 25,
   "metadata": {},
   "outputs": [
    {
     "name": "stdout",
     "output_type": "stream",
     "text": [
      "5\n",
      "\n",
      " [5 8 9 5]\n"
     ]
    }
   ],
   "source": [
    "#numpy.random.choice is another function for generating pseudo random data\n",
    "# np.random.choice(a=input, size= sixe of output, replace= y/n, p=probability\n",
    "\n",
    "np.random.seed(0) # set seed for number generation\n",
    "t=np.arange(10) # in a range to (but not including) 10\n",
    "x = np.random.choice(t) # choice() 'randomly' selects a number in the range\n",
    "print(x)\n",
    "\n",
    "\n",
    "np.random.seed(1) #changed seed\n",
    "a = np.random.choice(10, 4) # returns 4 numbers from range 0-10\n",
    "print(\"\\n\", a)"
   ]
  },
  {
   "cell_type": "markdown",
   "metadata": {},
   "source": [
    "##### Random data permutations\n",
    "\n",
    "The ordering of a set of objects that is fundamental to field sthat used randomised algorithms such as coding and cryptograpy. A modern example of this is shuffling a 52 deck of cards.\n",
    "\n",
    "Permutation functions have the capability to arrange a set of numbers into another random sequence. There are two tyoes of permutated functions - random.permutation and random.shuffle."
   ]
  },
  {
   "cell_type": "code",
   "execution_count": 8,
   "metadata": {},
   "outputs": [
    {
     "name": "stdout",
     "output_type": "stream",
     "text": [
      "Permuted 1D array: [5 1 0 4 3 2] \n",
      "\n",
      "Permuted 1D array: [5 6 3 4]\n"
     ]
    }
   ],
   "source": [
    "# np.random.permutation() randomly permutes a sequence/returns a permuted range\n",
    "#if x in an integer, the function will randomly permute np.arrange(x)\n",
    "\n",
    "#example permutation(integer) = array of numbers 0 to 5 in a random sequence\n",
    "print(\"Permuted 1D array:\",np.random.permutation(6), \"\\n\")\n",
    "\n",
    "#example permutation(array) = copied array but changed order\n",
    "print(\"Permuted 1D array:\", np.random.permutation([3, 6, 4, 5]))"
   ]
  },
  {
   "cell_type": "code",
   "execution_count": 9,
   "metadata": {},
   "outputs": [
    {
     "name": "stdout",
     "output_type": "stream",
     "text": [
      "Shuffled 1D array [13  6  8  2 14  1 10 11 12  5  9  3  0  7  4] \n",
      "\n",
      "Shuffled 2D array \n",
      " [[ 0  1  2  3  4]\n",
      " [ 5  6  7  8  9]\n",
      " [10 11 12 13 14]] \n",
      "\n"
     ]
    }
   ],
   "source": [
    "#numpy.random.shuffle()\n",
    "#function modifies a sequence in-place by shuffling its contents\n",
    "#Array only shuffled along the first axis of multidimensional arrays\n",
    "#sub arrays order changed but contents remian the same\n",
    "\n",
    "#numbers in array randomly changed from 0 to 15\n",
    "x1 = np.arange(15) # arange 1 dimensional\n",
    "np.random.shuffle(x1)\n",
    "print(\"Shuffled 1D array\", x1, \"\\n\")\n",
    "\n",
    "#multidimensional array\n",
    "#the order of each row changes each time algorithm is run. Contenst in each row remainS the same.\n",
    "x2 = np.arange(15).reshape(3,5) # reshape 2/3 dimensional\n",
    "np.random.shuffle(x2)\n",
    "print(\"Shuffled 2D array\", \"\\n\", x2, \"\\n\")\n"
   ]
  },
  {
   "cell_type": "markdown",
   "metadata": {},
   "source": [
    "#### Distribution Functions\n",
    "In this section of the tutorial, I will discuss five Distribution functions. They will include:\n",
    "* binomial\n",
    "* exponential\n",
    "* normal\n",
    "* uniform\n",
    "* poisson"
   ]
  },
  {
   "cell_type": "markdown",
   "metadata": {},
   "source": [
    "### Binomial Distribution\n",
    "The binomial distribution model deals with finding the probability of success of an event which has only two possible outcomes in a series of experiments. The most known example of binomial probability is 'coin flipping' in which only heads/tails are the possible options.\n",
    "\n",
    "A Binomial distribution as two assumptions.\n",
    "\n",
    "* The Probability of a success or failure should remain constant across events\n",
    "* Outcome of one event is completely independent of outcomes of other events\n",
    "\n",
    "Seaborn library and scipy package are useful for  creating binomial distribution graphs."
   ]
  },
  {
   "cell_type": "code",
   "execution_count": 28,
   "metadata": {},
   "outputs": [
    {
     "name": "stdout",
     "output_type": "stream",
     "text": [
      "[268 253 248 255 264 262 254 244 255 270 277 255 234 239 265 249 251 256\n",
      " 264 244]\n"
     ]
    }
   ],
   "source": [
    "#np.random.binomial(n, p, size)\n",
    "#n = number of trials\n",
    "#p = probability of success\n",
    "# size = times tested\n",
    "\n",
    "binom = np.random.binomial(500, .5, 20)\n",
    "print(binom)\n",
    "#the result of the above function is consistent with probability of 50% \n",
    "# ie 268/500 = 53.6% & 50.6% etc"
   ]
  },
  {
   "cell_type": "code",
   "execution_count": 32,
   "metadata": {},
   "outputs": [],
   "source": [
    "from scipy.stats import binom\n"
   ]
  },
  {
   "cell_type": "code",
   "execution_count": 6,
   "metadata": {
    "scrolled": true
   },
   "outputs": [
    {
     "data": {
      "text/plain": [
       "[Text(0, 0.5, 'Frequency'), Text(0.5, 0, 'Binomial Distribution')]"
      ]
     },
     "execution_count": 6,
     "metadata": {},
     "output_type": "execute_result"
    },
    {
     "data": {
      "image/png": "[encoded data removed]",
      "text/plain": [
       "<Figure size 432x288 with 1 Axes>"
      ]
     },
     "metadata": {
      "needs_background": "light"
     },
     "output_type": "display_data"
    }
   ],
   "source": [
    "#binomial discrete random variable\n",
    "# discrete variable = whose variable is obtained by counting\n",
    "random_binom = binom.rvs(n=20, p=.9 , size=10000)\n",
    "#used distplot to show random binonial distribution\n",
    "#set colour, density of the plot, linewidth and labels\n",
    "plot = sn.distplot(random_binom, kde=False, color=\"r\", hist_kws={\"linewidth\":5, \"alpha\":1})\n",
    "plot.set(xlabel=\"Binomial Distribution\", ylabel=\"Frequency\")\n",
    "\n",
    "#the data is skewed to the right because the probability is 90%. If p was .5 = the plot would have a bell shaped curve that would distributed around the centre"
   ]
  },
  {
   "cell_type": "markdown",
   "metadata": {},
   "source": [
    "#### Normal Distribution\n",
    "The normal distribution is a probability function that describes how the values of a variable are distributed.\n",
    "Normal distribution is also known as the Gaussian distribution. A normal distribution has a bell-shaped density curve centred around its mean. A noral distribution curve will be symmetrical, centred around the mean and its spread determined by its standard deviation, showing that data near the mean are more frequesnt in occurence than data away from the mean. \n",
    "\n",
    "numpy.random.normal is more likely to return samples close to the mean rather than those far away because it is at its peak at the mean. Extreme values in both tails of the distribution are similarly unlikely.\n",
    "\n",
    "The normal distribution can and is regulary used to demonstrate IQ/test scores, heights and blood pressure because they all can follow normal distribution.\n",
    "\n",
    "In normal distribution, the mean defines the location of the peaks while the standard deviation is the measure of the variability."
   ]
  },
  {
   "cell_type": "code",
   "execution_count": 29,
   "metadata": {},
   "outputs": [
    {
     "name": "stdout",
     "output_type": "stream",
     "text": [
      "0.9442290672229966 \n",
      "\n",
      "[[49.60376488 48.35986799 48.97536065 50.19737659 49.34667829]\n",
      " [50.58794461 51.21327793 50.29698962 49.02185013 49.07402902]] \n",
      "\n",
      "[ 9.35391277  7.71013528  9.4340726  10.11799787 10.46125509  9.62111206\n",
      " 10.06909801  9.21788295 11.50103804 10.56044057]\n"
     ]
    }
   ],
   "source": [
    "#loc=mean & scale=std\n",
    "#generate single number drawn from normal distribution\n",
    "#with mean of 0 and std of 1\n",
    "#no need to specify mean and std, default loc=0 and scale=1\n",
    "x=np.random.normal(1)\n",
    "print(x, \"\\n\")\n",
    "\n",
    "#generate 2 arrays of 5 values centred around a mean of 50\n",
    "y=np.random.normal(loc=50, size=(2,5))\n",
    "print(y, \"\\n\")\n",
    "\n",
    "#genrates 10 samples distributed around a mean of 10\n",
    "z=np.random.normal(loc=10,scale=1, size=(10))\n",
    "print(z)"
   ]
  },
  {
   "cell_type": "code",
   "execution_count": 35,
   "metadata": {},
   "outputs": [
    {
     "data": {
      "text/plain": [
       "[Text(0, 0.5, 'Frequency'), Text(0.5, 0, 'Normal Distribution')]"
      ]
     },
     "execution_count": 35,
     "metadata": {},
     "output_type": "execute_result"
    },
    {
     "data": {
      "image/png": "[encoded data removed]",
      "text/plain": [
       "<Figure size 432x288 with 1 Axes>"
      ]
     },
     "metadata": {
      "needs_background": "light"
     },
     "output_type": "display_data"
    }
   ],
   "source": [
    "from scipy.stats import norm\n",
    "\n",
    "#using scipy and seaborn to plot a normal distribution plot \n",
    "random_norm = norm.rvs(loc=0, scale=1 , size=10000)\n",
    "plot = sn.distplot(random_norm, kde=True, color=\"b\", hist_kws={\"linewidth\":5, \"alpha\":1})\n",
    "plot.set(xlabel=\"Normal Distribution\", ylabel=\"Frequency\")"
   ]
  },
  {
   "cell_type": "markdown",
   "metadata": {},
   "source": [
    "#### Uniform distribution\n",
    "A uniform distribution, sometimes also known as a rectangular distribution, is a distribution that has constant probability.\n",
    "\n",
    "It refers to a probability distribution for which all of the values that a random variable can take on occur with equal probability\n",
    "\n",
    "The term \"uniform distribution\" is also used to describe the shape of a graph that plots observed values in a set of data. Graphically, when the observed values in a set of data are equally spread across the range of the data set, the distribution is also called a uniform distribution. Graphically, a uniform distribution has no distinct peaks.\n",
    "\n",
    "Samples are uniformly distributed over the half open interval [low, high]. Meaning any value including the lowest but excluding the highest are equally likely to be drawn uniform."
   ]
  },
  {
   "cell_type": "code",
   "execution_count": 40,
   "metadata": {},
   "outputs": [
    {
     "name": "stdout",
     "output_type": "stream",
     "text": [
      "[0.03887511 0.78375706 0.50422275 0.87497214 0.41302742 0.19058173\n",
      " 0.26192199 0.0916031  0.87662249 0.45597463] \n",
      "\n",
      "[6.49454806 2.67345821 1.63079567 5.32684655 9.18043477 6.21267101\n",
      " 5.03772859 7.77919304 6.92296721 3.18451141 1.9405027  5.78647163\n",
      " 5.09733887 2.73560732 7.33374644 3.82178406 9.73385608 1.12880129\n",
      " 0.84427216 4.55764387 8.04672683 9.71799626 5.12622101 6.63728316\n",
      " 9.1184881  6.45167201 2.36506714 6.93473264 9.40244983 3.86226671\n",
      " 7.42152533 6.52546277 1.1581585  8.29188987 3.79011913 5.34628001\n",
      " 2.0874428  3.97047294 8.84086894 5.70607486 2.23243456 0.32886871\n",
      " 0.60993594 9.96340199 1.7275608  0.63030808 2.04359432 9.52535622\n",
      " 7.34422811 0.49024114 4.86919405 5.48221245 4.96304828 5.52658035\n",
      " 1.19785565 1.08350867 0.13235084 3.36573666 9.17421038 9.72325849\n",
      " 2.91280993 5.41985993 4.54530662 9.7706617  3.19093264 0.54348362\n",
      " 1.84284907 0.35431732 6.66121168 3.40688926 9.60801384 0.31148572\n",
      " 6.39003859 4.97380798 2.05916456 6.80042842 1.84772465 7.56423752\n",
      " 2.47316399 3.60463464 6.15042765 7.1192115  6.71848988 3.40186948\n",
      " 4.83488599 3.33615093 3.42045259 2.10334436 8.59859046 2.69383628\n",
      " 6.60142648 6.96101236 3.50930652 3.85153081 4.27442219 4.20517491\n",
      " 9.72566638 2.34932467 8.16573824 8.37290351]\n"
     ]
    }
   ],
   "source": [
    "#numpy.random.uniform(a,b) = genrate random nuber in uniform distribution where user determines interval from a to b\n",
    "#low = lowest boundary of interval, default is 0\n",
    "#high = highest boundry, default = 1\n",
    "#size = number of trials\n",
    "\n",
    "#import uniform distribution\n",
    "from scipy.stats import uniform\n",
    "\n",
    "#all samples between 0 & 1\n",
    "uniform_example = uniform.rvs(size=10)\n",
    "print(uniform_example, \"\\n\")\n",
    "\n",
    "#generate 100 numbers from 0 to 10 in uniform distribution\n",
    "data_uniform = uniform.rvs(size=100, loc = 0, scale=10)\n",
    "print(data_uniform)"
   ]
  },
  {
   "cell_type": "code",
   "execution_count": 43,
   "metadata": {},
   "outputs": [
    {
     "data": {
      "text/plain": [
       "[Text(0, 0.5, 'Frequency'), Text(0.5, 0, 'Uniform Distribution')]"
      ]
     },
     "execution_count": 43,
     "metadata": {},
     "output_type": "execute_result"
    },
    {
     "data": {
      "image/png": "[encoded data removed]",
      "text/plain": [
       "<Figure size 432x288 with 1 Axes>"
      ]
     },
     "metadata": {
      "needs_background": "light"
     },
     "output_type": "display_data"
    }
   ],
   "source": [
    "#using scipy and seaborn to plot a uniform distribution plot \n",
    "#10000 numbers between 0 & 10 over uniform distribution\n",
    "random_uniform = uniform.rvs(loc=0, scale=10 , size=10000)\n",
    "plot = sn.distplot(random_uniform, kde=True, color=\"g\", hist_kws={\"linewidth\":5, \"alpha\":1})\n",
    "plot.set(xlabel=\"Uniform Distribution\", ylabel=\"Frequency\")"
   ]
  },
  {
   "cell_type": "code",
   "execution_count": 44,
   "metadata": {},
   "outputs": [
    {
     "data": {
      "text/plain": [
       "[Text(0, 0.5, 'Frequency'), Text(0.5, 0, ' Default Uniform Distribution')]"
      ]
     },
     "execution_count": 44,
     "metadata": {},
     "output_type": "execute_result"
    },
    {
     "data": {
      "image/png": "[encoded data removed]",
      "text/plain": [
       "<Figure size 432x288 with 1 Axes>"
      ]
     },
     "metadata": {
      "needs_background": "light"
     },
     "output_type": "display_data"
    }
   ],
   "source": [
    "#uniform distribution plot using default interval\n",
    "random_uniform_default = uniform.rvs(size=10000)\n",
    "plot = sn.distplot(random_uniform_default, kde=True, color=\"g\", hist_kws={\"linewidth\":5, \"alpha\":1})\n",
    "plot.set(xlabel=\" Default Uniform Distribution\", ylabel=\"Frequency\")"
   ]
  },
  {
   "cell_type": "markdown",
   "metadata": {},
   "source": [
    "#### Poisson Distribution\n",
    "\n",
    "A Poisson distribution is a tool that helps to predict the probability of certain events from happening when you know how often the event has occurred. It gives us the probability of a given number of events happening in a fixed interval of time.\n",
    "Poisson distribution is used for count-based distributions where these events happen with a known average rate and independently of the time since the last event. The Poisson distribution is a discrete function, meaning that the event can only be measured as occurring or not as occurring, meaning the variable can only be measured in whole numbers."
   ]
  },
  {
   "cell_type": "code",
   "execution_count": 16,
   "metadata": {},
   "outputs": [
    {
     "data": {
      "text/plain": [
       "[Text(0, 0.5, 'Frequency'), Text(0.5, 0, 'Poisson Distribution')]"
      ]
     },
     "execution_count": 16,
     "metadata": {},
     "output_type": "execute_result"
    },
    {
     "data": {
      "image/png": "[encoded data removed]",
      "text/plain": [
       "<Figure size 432x288 with 1 Axes>"
      ]
     },
     "metadata": {
      "needs_background": "light"
     },
     "output_type": "display_data"
    }
   ],
   "source": [
    "from scipy.stats import poisson\n",
    "#mu = mean set at 3\n",
    "poisson_plot = poisson.rvs(mu=3, size=10000)\n",
    "PP = sn.distplot(poisson_plot, \n",
    "                  kde=False,\n",
    "                  color='skyblue',\n",
    "                  hist_kws={\"linewidth\": 15,'alpha':1})\n",
    "PP.set(xlabel='Poisson Distribution', ylabel='Frequency')"
   ]
  },
  {
   "cell_type": "markdown",
   "metadata": {},
   "source": [
    "##### Exponential Distribution\n",
    "The exponential distribution represents a process in which events occur continuously and independently at a constant average rate."
   ]
  },
  {
   "cell_type": "code",
   "execution_count": 7,
   "metadata": {
    "scrolled": true
   },
   "outputs": [
    {
     "data": {
      "text/plain": [
       "[Text(0, 0.5, 'Frequency'), Text(0.5, 0, 'Exponential Distribution')]"
      ]
     },
     "execution_count": 7,
     "metadata": {},
     "output_type": "execute_result"
    },
    {
     "data": {
      "image/png": "[encoded data removed]",
      "text/plain": [
       "<Figure size 432x288 with 1 Axes>"
      ]
     },
     "metadata": {
      "needs_background": "light"
     },
     "output_type": "display_data"
    }
   ],
   "source": [
    "#numpy.random.exponential(scale=1.0, size=None)\n",
    "#scale= \\beta = 1/\\lambda. size = no. samples to draw\n",
    "from scipy.stats import expon\n",
    "#use built in expon.rvs\n",
    "expon_plot = expon.rvs(scale=1,size=1000)\n",
    "plot_expon = sn.distplot(expon_plot, kde=True,bins=100, color='skyblue', hist_kws={\"linewidth\": 15,'alpha':1})\n",
    "plot_expon.set(xlabel='Exponential Distribution', ylabel='Frequency')"
   ]
  },
  {
   "cell_type": "markdown",
   "metadata": {},
   "source": [
    "#### The function of seeds in generating pseudo random numbers\n",
    "The seed method in numpy is used to initialize the pseudorandom number generator in Python. \n",
    "The numpy.random functions/modules are not truly random, they are what is called pseudo-random. Which basically means, it creates the numbers from some original value (known as the seed value). A computer cannot be completely random, they are deterministic machines. Computers are given designated inputs which they follow precisely to produce an output.\n",
    "The numpy random module uses the seed value as a base to generate a random number. If seed value is not present, it takes a system current time.\n",
    "\n",
    "The random.seed function works in combination with all the random generating modules within nump, for example random.rand, random.randint, random.choice and randn. \n",
    "\n",
    "The np.random.seed function provides and input for the pseudo-random number generator in Python.\n",
    "\n",
    "Essentially, NumPy random seed is used when we need to generate pseudo-random numbers in a repeatable way."
   ]
  },
  {
   "cell_type": "code",
   "execution_count": 30,
   "metadata": {},
   "outputs": [
    {
     "name": "stdout",
     "output_type": "stream",
     "text": [
      "random number with seed 8: 0.8734294027918162\n",
      "random number with seed 8: 0.8734294027918162\n",
      "random number with seed 8: 0.8734294027918162\n"
     ]
    }
   ],
   "source": [
    "#numpy. random.seed(seed=None) - seed = integer/1-d array\n",
    "#if seed = None, the systems current time is taken\n",
    "\n",
    "np.random.seed(8)\n",
    "print(\"random number with seed 8:\", np.random.rand())\n",
    "#the same number keeps generating because the seed remains constant.\n",
    "np.random.seed(8)\n",
    "print(\"random number with seed 8:\", np.random.rand())\n",
    "np.random.seed(8)\n",
    "print(\"random number with seed 8:\", np.random.rand())\n",
    "#the same number generated 3 times"
   ]
  },
  {
   "cell_type": "code",
   "execution_count": 35,
   "metadata": {},
   "outputs": [
    {
     "name": "stdout",
     "output_type": "stream",
     "text": [
      "random number with seed 8: 0.8734294027918162 \n",
      "\n",
      "random number with seed : 0.968540662820932 \n",
      "\n",
      "random number with seed : 0.86919454021392 \n",
      "\n",
      "random number with seed 8: 0.8734294027918162 \n",
      "\n"
     ]
    }
   ],
   "source": [
    "#the seed is the fountain of generating pseudo-random numbers and defines what # will be generated next\n",
    "#seed value is 8\n",
    "np.random.seed(8)\n",
    "print(\"random number with seed 8:\", np.random.rand(), \"\\n\")\n",
    "\n",
    "#by not selecting seed 8 again the number generated by randint changes\n",
    "#the new number generated becomes the new seed unless changed by user\n",
    "print(\"random number with seed :\", np.random.rand(), \"\\n\")\n",
    "\n",
    "print(\"random number with seed :\", np.random.rand(), \"\\n\")\n",
    "\n",
    "#seed is 8 - output is the same as seed 8 above\n",
    "np.random.seed(8)\n",
    "print(\"random number with seed 8:\", np.random.rand(), \"\\n\")"
   ]
  },
  {
   "cell_type": "code",
   "execution_count": 10,
   "metadata": {},
   "outputs": [
    {
     "name": "stdout",
     "output_type": "stream",
     "text": [
      "Original Sequence: [1, 2, 3, 4, 5] \n",
      "\n",
      "shuffled sequence: [1, 4, 2, 5, 3] \n",
      "\n",
      "2nd shuffled sequence: [1, 4, 2, 5, 3] \n",
      "\n"
     ]
    }
   ],
   "source": [
    "#random.seed can be used in combination with random.shuffle\n",
    "#random.seed & random.shuffle together will result in same sequence each shuffle\n",
    "\n",
    "#first sequence\n",
    "number_sequence=[1, 2, 3, 4, 5]\n",
    "print(\"Original Sequence:\", number_sequence, \"\\n\")\n",
    "\n",
    "#2nd sequence with seed & shuffle. Sequence will change\n",
    "np.random.seed(4)\n",
    "np.random.shuffle(number_sequence)\n",
    "print(\"shuffled sequence:\", number_sequence, \"\\n\")\n",
    "\n",
    "#3rd sequence with seed & shuffle. Sequence will remain same as 2nd\n",
    "#sequence remains the same because seed is constant\n",
    "number_sequence=[1, 2, 3, 4, 5]\n",
    "np.random.seed(4)\n",
    "np.random.shuffle(number_sequence)\n",
    "print(\"2nd shuffled sequence:\", number_sequence, \"\\n\")"
   ]
  },
  {
   "cell_type": "markdown",
   "metadata": {},
   "source": [
    "#### Conclusion\n",
    "Numpy is a basic, easy to use but powerful package for scientific computing and data manipulation in python. It seamlessly works in conjuction with seaborn to illustrate easy to visualise plots. The numpy.random function makes it easy to generate 'random' numbers (a.k.a pseudo-random numbers) and use them to demonstrate probability functions and complete statisitical analysis on random data.\n",
    "\n",
    "The was an interesting and challenging project because while the Numpy & Scipy documentation contains all the information to use the packages correctly, they are written using top level terms assuming you have a strong knowledge prior python. This assignment has been great to learn the basics step by step. As I progressed, I began to understand the documentation and methodology of the NumPy package and its functions.\n",
    "\n",
    "Completing this assignment was a great way to develop NumPy understanding and is a step in the correct direction for machine and deep learning.\n"
   ]
  },
  {
   "cell_type": "code",
   "execution_count": null,
   "metadata": {},
   "outputs": [],
   "source": []
  }
 ],
 "metadata": {
  "kernelspec": {
   "display_name": "Python 3",
   "language": "python",
   "name": "python3"
  },
  "language_info": {
   "codemirror_mode": {
    "name": "ipython",
    "version": 3
   },
   "file_extension": ".py",
   "mimetype": "text/x-python",
   "name": "python",
   "nbconvert_exporter": "python",
   "pygments_lexer": "ipython3",
   "version": "3.7.1"
  }
 },
 "nbformat": 4,
 "nbformat_minor": 2
}
