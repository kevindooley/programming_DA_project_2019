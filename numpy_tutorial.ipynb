{
 "cells": [
  {
   "cell_type": "markdown",
   "metadata": {},
   "source": [
    "# Programming for Data Analysis Project 2019\n",
    "### By Kevin Dooley"
   ]
  },
  {
   "cell_type": "markdown",
   "metadata": {},
   "source": [
    "![](numpy.png)\n",
    " "
   ]
  },
  {
   "cell_type": "markdown",
   "metadata": {},
   "source": [
    "# Title: Tutorial/Review on the 'NumPy' package in Python"
   ]
  },
  {
   "cell_type": "markdown",
   "metadata": {},
   "source": [
    "##### What is NumPy?\n",
    "NimPy stands for Numerical Python and is a library consisting of multidimensional array objects with a collection of functions of processing those arrays. NumPy is a fundamental package for scientific computing with Python. \n",
    "\n",
    "What NumPy can do:\n",
    "- array orientated computing\n",
    "- sophisticated (broadcasting) functions\n",
    "- efficiently implemented multi-dimensional arrays\n",
    "- useful linear algebra, Fourier transform, and random number capabilities\n",
    "- designed for scientific computing\n",
    "\n",
    "NumPy has two important aspects: arrays and number generation. Both of which which will be discussed in this tutorial.\n",
    "\n",
    "NumPy is the Python package of choice for data analysis compared to the normal built in Python Core Library of lists. This is because 'real world' datasets are usually built as matrices and it is much easier to open those with NumPy instead of working with lists. NumPy takes up less memory space and has improved performance compared to the standard library. Numpy also has optimised functions such as linear algebra built into it which make is an overall more attractive package.\n",
    "\n",
    "NumPy is usually used in combination with packages like SciPy and Matplotlib when completing aspects of data analysis. In this tutorial, I will explain the basics of NumPy such as its subpackages and capabilities."
   ]
  },
  {
   "cell_type": "markdown",
   "metadata": {},
   "source": [
    "##### NumPy Arrays\n",
    "Homogeneous multidimensional arrays  are the main objects and foundations of this package. They are in classes called 'ndarrays' and are basically a set of numbers, all of the same type and are indexed by a tuple of nonnegative integers. The dimensions and items of the ndarray are defined by its shape and type of items definded as dtype. Similar to lists in Python, objects in ndarrys can be indexed and sliced."
   ]
  },
  {
   "cell_type": "code",
   "execution_count": 1,
   "metadata": {},
   "outputs": [
    {
     "name": "stdout",
     "output_type": "stream",
     "text": [
      "This is a list [2, 4, 6, 8] \n",
      "\n",
      "The is an Vector [2 4 6 8]\n"
     ]
    },
    {
     "data": {
      "text/plain": [
       "numpy.ndarray"
      ]
     },
     "execution_count": 1,
     "metadata": {},
     "output_type": "execute_result"
    }
   ],
   "source": [
    "import numpy as np # numpy package abbreviated to np\n",
    "#np.array - creates an array\n",
    "#syntax = array(object, dtype = None, copy = True, order = 'K', subok = False, ndmin = 0)\n",
    "#if data type not provided -  \n",
    "#numpy array - 1-d (vector), 2-d/3-d (matrix)\n",
    "\n",
    "#normal list prints\n",
    "new_list = [2, 4, 6, 8]\n",
    "print((\"This is a list\"), new_list, \"\\n\") # line spacing\n",
    "\n",
    "#ndarray prints from list (1-d)\n",
    "my_list = [2, 4, 6, 8]\n",
    "a = np.array(my_list)\n",
    "print(\"The is an Vector\", a)\n",
    "\n",
    "type(a) # verify it is an array"
   ]
  },
  {
   "cell_type": "code",
   "execution_count": 2,
   "metadata": {},
   "outputs": [
    {
     "name": "stdout",
     "output_type": "stream",
     "text": [
      "This is a Matrix \n",
      " [[1 2 3]\n",
      " [4 5 6]\n",
      " [7 8 9]]\n"
     ]
    },
    {
     "data": {
      "text/plain": [
       "numpy.ndarray"
      ]
     },
     "execution_count": 2,
     "metadata": {},
     "output_type": "execute_result"
    }
   ],
   "source": [
    "#ndarray prints from lists\n",
    "matrix = [[1, 2, 3],[4, 5, 6],[7, 8, 9]]\n",
    "x =np.array(matrix)\n",
    "print((\"This is a Matrix\"),(\"\\n\"), x) # line spacing\n",
    "\n",
    "type(x) # shows matrix is a ndarray"
   ]
  },
  {
   "cell_type": "code",
   "execution_count": 3,
   "metadata": {},
   "outputs": [
    {
     "data": {
      "text/plain": [
       "array([ 3. ,  6.1,  9.2, 12.3])"
      ]
     },
     "execution_count": 3,
     "metadata": {},
     "output_type": "execute_result"
    }
   ],
   "source": [
    "#np.arange(start=None, stop=None, step=None, dtype=None)\n",
    "#np.arrange useful for creating large dimensional matrices\n",
    "#np.arange() - 1 dimensional\n",
    "#np.arange.rshape() - 2/3 dimensional\n",
    "np.arange (3, 15, 3.1) # start 3(inclusive), stop 15(exclusive), step, dtype - float because of step\n"
   ]
  },
  {
   "cell_type": "markdown",
   "metadata": {},
   "source": [
    "These are just some small examples of different types of arrays in Numpy. We have seen different examples of arrays in Numpy. The arrays will be used in the genration of so called random numbers."
   ]
  },
  {
   "cell_type": "markdown",
   "metadata": {},
   "source": [
    "### Getting started with NumPy\n",
    "The first step is to import the supporting python packages that work in conjection with NumPy"
   ]
  },
  {
   "cell_type": "code",
   "execution_count": 4,
   "metadata": {},
   "outputs": [],
   "source": [
    "#numpy imported above\n",
    "import matplotlib.pyplot as plt\n",
    "import seaborn as sn\n",
    "\n",
    "# notice abbreviations for each package as these will be used throughout the jupyter notebook"
   ]
  },
  {
   "cell_type": "markdown",
   "metadata": {},
   "source": [
    "### Simple random data\n",
    "#### Define Simple random data\n",
    "Simple random data is set of n objects in a population of N objects where all possible samples are equally likely to happen. Basically it means that any set of numbers in a statistical population has an equal and independent probibility of being selected. A real life example of this is the lottery."
   ]
  },
  {
   "cell_type": "code",
   "execution_count": 5,
   "metadata": {},
   "outputs": [
    {
     "name": "stdout",
     "output_type": "stream",
     "text": [
      "1D Array \n",
      " [0.26234577 0.96546091] \n",
      "\n",
      "2D Array \n",
      " [[0.95763225 0.76482246 0.61626967]\n",
      " [0.0039117  0.99627416 0.54474796]] \n",
      "\n",
      "3D array \n",
      " [[[0.82894208 0.64208909 0.68376795]\n",
      "  [0.44688441 0.53126473 0.94383186]\n",
      "  [0.29978824 0.99574141 0.77979192]]\n",
      "\n",
      " [[0.77469092 0.5220026  0.60229154]\n",
      "  [0.02100438 0.99652332 0.45231474]\n",
      "  [0.57404136 0.39629881 0.91851459]]\n",
      "\n",
      " [[0.07979805 0.971273   0.24793972]\n",
      "  [0.50088114 0.12307284 0.61095646]\n",
      "  [0.02451065 0.64621085 0.14732594]]] \n",
      "\n"
     ]
    }
   ],
   "source": [
    "# numpy.random has many different built in functions to demonstrate matrix arrays\n",
    "# the first one I will demonstrate is np.random.rand()\n",
    "# this function generates random values in a given shape depending on the input from the user\n",
    "# the function can output multidimensional arrays of random numbers\n",
    "# numpy.random.rand creates a ndarry of the given shape and populates it with random samples of a uniform distribution\n",
    "# \"\\n\" used to format arrays - creates a new line\n",
    "\n",
    "# 1 input of the same object type = 1D array\n",
    "print(\"1D Array\",\"\\n\",np.random.rand(2), \"\\n\")\n",
    "\n",
    "# 2 inputs of the same object type = 2D array\n",
    "print(\"2D Array\",\"\\n\",np.random.rand(2, 3), \"\\n\")\n",
    "\n",
    "# 3 inputs of the same object type = 3D array\n",
    "print(\"3D array\",\"\\n\",np.random.rand(3, 3, 3), \"\\n\")\n"
   ]
  },
  {
   "cell_type": "markdown",
   "metadata": {},
   "source": [
    "Visual of different types of arrays\n",
    "![](main-1.png)"
   ]
  },
  {
   "cell_type": "code",
   "execution_count": 6,
   "metadata": {},
   "outputs": [
    {
     "data": {
      "image/png": "[encoded data removed]",
      "text/plain": [
       "<Figure size 432x288 with 1 Axes>"
      ]
     },
     "metadata": {
      "needs_background": "light"
     },
     "output_type": "display_data"
    }
   ],
   "source": [
    "# histogram to show 'rand' function demonstrates uniform distribution\n",
    "# using 2D array as example\n",
    "\n",
    "plt.hist(np.random.rand(2,3))\n",
    "plt.show()"
   ]
  },
  {
   "cell_type": "code",
   "execution_count": 7,
   "metadata": {},
   "outputs": [
    {
     "name": "stdout",
     "output_type": "stream",
     "text": [
      "2D array \n",
      " [[-0.56974765  1.3605286  -2.05306853]\n",
      " [ 0.94350281 -0.86922094  1.33185854]] \n",
      "\n",
      "Manipulated 2D array \n",
      " [[-1.66197968 -1.5696586   1.08316089]\n",
      " [-4.04113654  1.41820953 -4.31803552]]\n"
     ]
    }
   ],
   "source": [
    "# 'randn' - output of a random number from standard normal distribution.\n",
    "# d0, d1, ..., dn : [int, optional]Dimension of the returned array we require \n",
    "# positive int returns a random float in univariate/normal distribution centred around 0\n",
    "\n",
    "# 2D array - 2 rows & 3 colummns\n",
    "print(\"2D array\", \"\\n\",np.random.randn(2, 3), \"\\n\")\n",
    "\n",
    "# 'randn' arrays can be manipulated\n",
    "# 2D array * 2\n",
    "print(\"Manipulated 2D array\", \"\\n\", np.random.randn(2, 3) * 2)\n"
   ]
  },
  {
   "cell_type": "code",
   "execution_count": 8,
   "metadata": {},
   "outputs": [
    {
     "data": {
      "image/png": "[encoded data removed]",
      "text/plain": [
       "<Figure size 432x288 with 1 Axes>"
      ]
     },
     "metadata": {
      "needs_background": "light"
     },
     "output_type": "display_data"
    }
   ],
   "source": [
    "# histogram to show 'randn' function demonstrates normal distribution \n",
    "# 2D array as example\n",
    "\n",
    "plt.hist(np.random.randn(5,4))\n",
    "plt.show()"
   ]
  },
  {
   "cell_type": "code",
   "execution_count": 9,
   "metadata": {},
   "outputs": [
    {
     "name": "stdout",
     "output_type": "stream",
     "text": [
      "Type of the array <class 'int'> \n",
      "\n",
      "Random Integer: 1 \n",
      "\n",
      "Random Integer: 5 \n",
      "\n",
      "Random Array of Integers: [ 8  8  7  5 14]\n"
     ]
    }
   ],
   "source": [
    "# 'randint' is another function in numpy.random\n",
    "# returns random integers from lowest number to highest number\n",
    "#the lowest number entered by the user is included in the returned array but the highest number is excluded\n",
    "# function can take upto 3 inputs\n",
    "\n",
    "#type returns integer or ndarry of ints depending on input\n",
    "#class is an integer\n",
    "print(\"Type of the array\", type(np.random.randint(1)), \"\\n\")\n",
    "\n",
    "#output - random number exluding 15\n",
    "print(\"Random Integer:\", np.random.randint(15), \"\\n\")\n",
    "\n",
    "#output - random number between (3, 15), including 3 but excluding 15\n",
    "print(\"Random Integer:\", np.random.randint(3, 15), \"\\n\")\n",
    "\n",
    "#output - random array of numbers (3, 15, 5)\n",
    "# 3rd input determines the amount of integers within the selected parameters\n",
    "print(\"Random Array of Integers:\", np.random.randint(3, 15, 5))"
   ]
  },
  {
   "cell_type": "code",
   "execution_count": 10,
   "metadata": {},
   "outputs": [
    {
     "name": "stdout",
     "output_type": "stream",
     "text": [
      "1D array : 0.7406502253211911\n"
     ]
    }
   ],
   "source": [
    "#other functions in the numpy.random package that complete the same task\n",
    "#numpy.random.random_sample, numpy.random.ranf, numpy.random.random and numpy.random.sample are very similiar\n",
    "#example of numpy.random.sample\n",
    "# function returns floating point number in a specific shape in the half open intervel [0.0, 1.0)\n",
    "\n",
    "print(\"1D array :\", np.random.random_sample(size=None))\n",
    "# no value entered so single value is automatically returned\n"
   ]
  },
  {
   "cell_type": "code",
   "execution_count": 11,
   "metadata": {},
   "outputs": [
    {
     "name": "stdout",
     "output_type": "stream",
     "text": [
      "Random integer: 5 \n",
      "\n",
      "Random array: [5 8 9 5]\n"
     ]
    }
   ],
   "source": [
    "#numpy.random.choice is another function for generating pseudo random data\n",
    "# np.random.choice(a=input, size= sixe of output, replace= y/n, p=probability\n",
    "\n",
    "np.random.seed(0) # set seed for number generation\n",
    "t=np.arange(10) # in a range to (but not including) 10\n",
    "x = np.random.choice(t) # choice() 'randomly' selects a number in the range\n",
    "print(\"Random integer:\",x, \"\\n\") # spacing\n",
    "\n",
    "\n",
    "np.random.seed(1) #changed seed\n",
    "a = np.random.choice(10, 4) # returns 4 numbers from range 0-10\n",
    "print(\"Random array:\", a)"
   ]
  },
  {
   "cell_type": "markdown",
   "metadata": {},
   "source": [
    "##### Random data permutations\n",
    "\n",
    "The ordering of a set of objects that is fundamental to field sthat used randomised algorithms such as coding and cryptograpy. A modern example of this is shuffling a 52 deck of cards.\n",
    "\n",
    "Permutation functions have the capability to arrange a set of numbers into another random sequence. There are two tyoes of permutated functions - random.permutation and random.shuffle."
   ]
  },
  {
   "cell_type": "code",
   "execution_count": 12,
   "metadata": {},
   "outputs": [
    {
     "name": "stdout",
     "output_type": "stream",
     "text": [
      "Permuted 1D array: [2 3 4 1 5 0] \n",
      "\n",
      "Permuted 1D array: [5 4 3 6]\n"
     ]
    }
   ],
   "source": [
    "# np.random.permutation() randomly permutes a sequence/returns a permuted range\n",
    "#if x in an integer, the function will randomly permute np.arrange(x)\n",
    "\n",
    "#example permutation(integer) = array of numbers 0 to 5 in a random sequence\n",
    "print(\"Permuted 1D array:\",np.random.permutation(6), \"\\n\")\n",
    "\n",
    "#example permutation(array) = copied array but changed order\n",
    "print(\"Permuted 1D array:\", np.random.permutation([3, 6, 4, 5]))"
   ]
  },
  {
   "cell_type": "code",
   "execution_count": 13,
   "metadata": {},
   "outputs": [
    {
     "name": "stdout",
     "output_type": "stream",
     "text": [
      "Shuffled 1D array \n",
      " [ 7  3 11  8  0  6  1 14 10 12 13  5  4  2  9] \n",
      "\n",
      "Shuffled 2D array \n",
      " [[ 0  1  2  3  4]\n",
      " [10 11 12 13 14]\n",
      " [ 5  6  7  8  9]] \n",
      "\n"
     ]
    }
   ],
   "source": [
    "#numpy.random.shuffle()\n",
    "#function modifies a sequence in-place by shuffling its contents\n",
    "#Array only shuffled along the first axis of multidimensional arrays\n",
    "#sub arrays order changed but contents remian the same\n",
    "\n",
    "#numbers in array randomly changed from 0 to 15\n",
    "x1 = np.arange(15) # arange 1 dimensional\n",
    "np.random.shuffle(x1)\n",
    "print(\"Shuffled 1D array\", \"\\n\", x1, \"\\n\")\n",
    "\n",
    "#multidimensional array\n",
    "#the order of each row changes each time algorithm is run. Contenst in each row remainS the same.\n",
    "x2 = np.arange(15).reshape(3,5) # reshape 2/3 dimensional\n",
    "np.random.shuffle(x2)\n",
    "print(\"Shuffled 2D array\", \"\\n\", x2, \"\\n\")\n"
   ]
  },
  {
   "cell_type": "markdown",
   "metadata": {},
   "source": [
    "#### Distribution Functions\n",
    "In this section of the tutorial, I will discuss five Distribution functions. They will include:\n",
    "* binomial\n",
    "* normal\n",
    "* uniform\n",
    "* beta\n",
    "* poisson\n",
    "* eponential"
   ]
  },
  {
   "cell_type": "markdown",
   "metadata": {},
   "source": [
    "### Binomial Distribution\n",
    "The binomial distribution model deals with finding the probability of success of an event which has only two possible outcomes in a series of experiments. The most known example of binomial probability is 'coin flipping' in which only heads/tails are the possible options.\n",
    "\n",
    "A Binomial distribution as two assumptions.\n",
    "\n",
    "* The Probability of a success or failure should remain constant across events\n",
    "* Outcome of one event is completely independent of outcomes of other events\n",
    "\n",
    "Seaborn library and scipy package are useful for  creating binomial distribution graphs."
   ]
  },
  {
   "cell_type": "code",
   "execution_count": 14,
   "metadata": {},
   "outputs": [
    {
     "name": "stdout",
     "output_type": "stream",
     "text": [
      "[245 252 236 244 234 234 242 243 269 257 235 251 266 266 255 244 240 225\n",
      " 268 237]\n"
     ]
    }
   ],
   "source": [
    "#np.random.binomial(n, p, size)\n",
    "#n = number of trials\n",
    "#p = probability of success\n",
    "# size = times tested\n",
    "\n",
    "binom = np.random.binomial(500, .5, 20)\n",
    "print(binom)\n",
    "#the result of the above function is consistent with probability of 50% \n",
    "# ie 268/500 = 53.6% & 50.6% etc"
   ]
  },
  {
   "cell_type": "code",
   "execution_count": 15,
   "metadata": {},
   "outputs": [],
   "source": [
    "from scipy.stats import binom\n",
    "# notice abbreviation"
   ]
  },
  {
   "cell_type": "code",
   "execution_count": 32,
   "metadata": {
    "scrolled": true
   },
   "outputs": [
    {
     "data": {
      "text/plain": [
       "[Text(0, 0.5, 'Frequency'), Text(0.5, 0, 'Binomial Distribution')]"
      ]
     },
     "execution_count": 32,
     "metadata": {},
     "output_type": "execute_result"
    },
    {
     "data": {
      "image/png": "[encoded data removed]",
      "text/plain": [
       "<Figure size 432x288 with 1 Axes>"
      ]
     },
     "metadata": {
      "needs_background": "light"
     },
     "output_type": "display_data"
    }
   ],
   "source": [
    "#binomial discrete random variable\n",
    "# discrete variable = whose variable is obtained by counting\n",
    "random_binom = binom.rvs(n=20, p=.9 , size=10000)\n",
    "#used distplot to show random binonial distribution\n",
    "#set colour, density of the plot, linewidth and labels\n",
    "plot = sn.distplot(random_binom, kde=False, color=\"r\", hist_kws={\"linewidth\":5, \"alpha\":1})\n",
    "plot.set(xlabel=\"Binomial Distribution\", ylabel=\"Frequency\")\n",
    "\n",
    "#the data is skewed to the right because the probability is 90%. If p was .5 = the plot would be more distributed around the centre"
   ]
  },
  {
   "cell_type": "markdown",
   "metadata": {},
   "source": [
    "#### Normal Distribution\n",
    "The normal distribution is a probability function that describes how the values of a variable are distributed.\n",
    "Normal distribution is also known as the Gaussian distribution. A normal distribution has a bell-shaped density curve centred around its mean. A noral distribution curve will be symmetrical, centred around the mean and its spread determined by its standard deviation, showing that data near the mean are more frequent in occurence than data away from the mean. \n",
    "\n",
    "numpy.random.normal is more likely to return samples close to the mean rather than those far away because it is at its peak at the mean. Extreme values in both tails of the distribution are similarly unlikely.\n",
    "\n",
    "The normal distribution can and is regulary used to demonstrate IQ/test scores, heights and blood pressure because they all can follow normal distribution.\n",
    "\n",
    "In normal distribution, the mean defines the location of the peaks while the standard deviation is the measure of the variability."
   ]
  },
  {
   "cell_type": "code",
   "execution_count": 17,
   "metadata": {},
   "outputs": [
    {
     "name": "stdout",
     "output_type": "stream",
     "text": [
      "Random integer with normal distribution: \n",
      " 0.19939715051543172 \n",
      "\n",
      "Random array with normal distribution: \n",
      " [[50.15132117 50.8918484  49.21313174 49.99776164 51.07766277]\n",
      " [51.86897482 51.15654825 50.4052746  47.62065501 48.56098648]] \n",
      "\n",
      "Random integer with normal distribution: \n",
      " [ 9.37018839 10.74220833 10.12182436 10.50584393  9.35511303 11.82039313\n",
      "  8.44468196  9.78077665 10.04449049  9.92617275]\n"
     ]
    }
   ],
   "source": [
    "#loc=mean & scale=std\n",
    "#generate single number drawn from normal distribution\n",
    "#with mean of 0 and std of 1\n",
    "#no need to specify mean and std, default loc=0 and scale=1\n",
    "x=np.random.normal(1)\n",
    "print(\"Random integer with normal distribution:\", \"\\n\", x, \"\\n\")\n",
    "\n",
    "#generate 2 arrays of 5 values centred around a mean of 50\n",
    "y=np.random.normal(loc=50, size=(2,5))\n",
    "print(\"Random array with normal distribution:\", \"\\n\", y, \"\\n\")\n",
    "\n",
    "#genrates 10 samples distributed around a mean of 10\n",
    "z=np.random.normal(loc=10,scale=1, size=(10))\n",
    "print(\"Random integer with normal distribution:\", \"\\n\", z)"
   ]
  },
  {
   "cell_type": "code",
   "execution_count": 18,
   "metadata": {},
   "outputs": [
    {
     "data": {
      "text/plain": [
       "[Text(0, 0.5, 'Frequency'), Text(0.5, 0, 'Normal Distribution')]"
      ]
     },
     "execution_count": 18,
     "metadata": {},
     "output_type": "execute_result"
    },
    {
     "data": {
      "image/png": "[encoded data removed]",
      "text/plain": [
       "<Figure size 432x288 with 1 Axes>"
      ]
     },
     "metadata": {
      "needs_background": "light"
     },
     "output_type": "display_data"
    }
   ],
   "source": [
    "from scipy.stats import norm\n",
    "\n",
    "#using scipy and seaborn to plot a normal distribution plot \n",
    "random_norm = norm.rvs(loc=0, scale=1 , size=10000)\n",
    "#kde - density line, colour, line width\n",
    "plot = sn.distplot(random_norm, kde=True, color=\"b\", hist_kws={\"linewidth\":5, \"alpha\":1})\n",
    "#plot labels\n",
    "plot.set(xlabel=\"Normal Distribution\", ylabel=\"Frequency\")"
   ]
  },
  {
   "cell_type": "markdown",
   "metadata": {},
   "source": [
    "#### Uniform distribution\n",
    "A uniform distribution, sometimes also known as a rectangular distribution, is a distribution that has constant probability.\n",
    "\n",
    "It refers to a probability distribution for which all of the values that a random variable can take on occur with equal probability\n",
    "\n",
    "The term \"uniform distribution\" is also used to describe the shape of a graph that plots observed values in a set of data. Graphically, when the observed values in a set of data are equally spread across the range of the data set, the distribution is also called a uniform distribution. Graphically, a uniform distribution has no distinct peaks.\n",
    "\n",
    "Samples are uniformly distributed over the half open interval [low, high]. Meaning any value including the lowest but excluding the highest are equally likely to be drawn uniform."
   ]
  },
  {
   "cell_type": "code",
   "execution_count": 19,
   "metadata": {},
   "outputs": [
    {
     "name": "stdout",
     "output_type": "stream",
     "text": [
      "Uniform distibution: [0.72215692 0.13029552 0.75571606 0.48422879 0.05593879 0.33341372\n",
      " 0.29492551 0.55840224 0.75343629 0.84001438] \n",
      "\n",
      "[6.79248486 8.78859565 5.26345935 2.03248304 7.24173257 9.30512284\n",
      " 7.93302274 0.25428929 4.94750041 4.64021599 9.71408434 2.41225979\n",
      " 8.87090378 3.87221094 8.19080809 8.46956368 9.69040052 5.28300285\n",
      " 1.02966276 6.6019342  4.11275927 0.44072552 5.95808269 0.9992146\n",
      " 3.18208809 2.36018989 4.83859748 1.56393516 9.43831755 5.1298215\n",
      " 6.99943782 2.87333098 9.40482735 3.11205359 3.15839075 3.20155372\n",
      " 1.91899534 3.91661224 5.26716851 4.83718449 7.57305314 2.7425415\n",
      " 5.02481634 1.03424237 7.24646458 7.04752246 4.04044719 9.08024488\n",
      " 1.88225523 1.1884157  7.52068904 8.93025132 3.74921807 6.40304457\n",
      " 6.66019723 5.54555479 7.77055757 3.91270953 6.34757266 4.93425739\n",
      " 9.55034898 0.75909216 5.18532666 1.36664726 2.90282583 7.32211215\n",
      " 0.97155655 6.86696638 9.85074647 7.5934662  2.0966969  5.62699515\n",
      " 5.02350318 0.35979286 1.43597224 1.06965364 1.31226097 3.90401384\n",
      " 7.96762091 4.43948699 1.43812664 1.15932801 3.25642264 7.94707005\n",
      " 2.48572798 9.11942713 2.73530247 2.56583398 8.20987816 5.21622916\n",
      " 3.62280494 6.02125427 4.83971312 3.00533834 7.33112234 6.93504701\n",
      " 4.35484228 8.14601427 9.58159605 1.36180989]\n"
     ]
    }
   ],
   "source": [
    "#numpy.random.uniform(a,b) = genrate random nuber in uniform distribution where user determines interval from a to b\n",
    "#low = lowest boundary of interval, default is 0\n",
    "#high = highest boundry, default = 1\n",
    "#size = number of trials\n",
    "\n",
    "#import uniform distribution\n",
    "from scipy.stats import uniform\n",
    "\n",
    "#all samples between 0 & 1\n",
    "uniform_example = uniform.rvs(size=10)\n",
    "print(\"Uniform distibution:\", uniform_example, \"\\n\")\n",
    "\n",
    "#generate 100 numbers from 0 to 10 in uniform distribution\n",
    "data_uniform = uniform.rvs(size=100, loc = 0, scale=10)\n",
    "print(data_uniform)"
   ]
  },
  {
   "cell_type": "code",
   "execution_count": 20,
   "metadata": {},
   "outputs": [
    {
     "data": {
      "text/plain": [
       "[Text(0, 0.5, 'Frequency'), Text(0.5, 0, 'Uniform Distribution')]"
      ]
     },
     "execution_count": 20,
     "metadata": {},
     "output_type": "execute_result"
    },
    {
     "data": {
      "image/png": "[encoded data removed]",
      "text/plain": [
       "<Figure size 432x288 with 1 Axes>"
      ]
     },
     "metadata": {
      "needs_background": "light"
     },
     "output_type": "display_data"
    }
   ],
   "source": [
    "#using scipy and seaborn to plot a uniform distribution plot \n",
    "#10000 numbers between 0 & 10 over uniform distribution\n",
    "random_uniform = uniform.rvs(loc=0, scale=10 , size=10000)\n",
    "#density-yes, colour, linewidth\n",
    "plot = sn.distplot(random_uniform, kde=True, color=\"g\", hist_kws={\"linewidth\":5, \"alpha\":1})\n",
    "#plot labels\n",
    "plot.set(xlabel=\"Uniform Distribution\", ylabel=\"Frequency\")"
   ]
  },
  {
   "cell_type": "code",
   "execution_count": 21,
   "metadata": {},
   "outputs": [
    {
     "data": {
      "text/plain": [
       "[Text(0, 0.5, 'Frequency'), Text(0.5, 0, ' Default Uniform Distribution')]"
      ]
     },
     "execution_count": 21,
     "metadata": {},
     "output_type": "execute_result"
    },
    {
     "data": {
      "image/png": "[encoded data removed]",
      "text/plain": [
       "<Figure size 432x288 with 1 Axes>"
      ]
     },
     "metadata": {
      "needs_background": "light"
     },
     "output_type": "display_data"
    }
   ],
   "source": [
    "#uniform distribution plot using default interval\n",
    "random_uniform_default = uniform.rvs(size=10000)\n",
    "#density-yes, colour, linewidth\n",
    "plot = sn.distplot(random_uniform_default, kde=True, color=\"g\", hist_kws={\"linewidth\":5, \"alpha\":1})\n",
    "#plot labels\n",
    "plot.set(xlabel=\" Default Uniform Distribution\", ylabel=\"Frequency\")"
   ]
  },
  {
   "cell_type": "markdown",
   "metadata": {},
   "source": [
    "##### Beta Distribution\n",
    "\n",
    "The Beta distribution is a distribution on the interval [0,1], and allows for simple non-uniform distributions for values between 0 and 1. It is defined by two parameters alpha and beta, depending on the values of alpha and beta they can assume very different distributions. The alpha and beta values define the shape of the distribution\n",
    "\n",
    "It is commonly used to model one's uncertainty about the probability of success of an experiment."
   ]
  },
  {
   "cell_type": "code",
   "execution_count": 22,
   "metadata": {},
   "outputs": [
    {
     "name": "stdout",
     "output_type": "stream",
     "text": [
      "Random variates from Beta Distribution: \n",
      " [0.97148778 0.90700564 0.94410768 0.77412436 0.82749471 0.96299936\n",
      " 0.95300085 0.8878184  0.96957387 0.9372186  0.78955012 0.84700494\n",
      " 0.79012073 0.85088593 0.99914645 0.97647376 0.98578414 0.88836665\n",
      " 0.9216183  0.90433159 0.95801351 0.95921842 0.98859335 0.97431893\n",
      " 0.95691183 0.80617639 0.86326863 0.78055497 0.89377647 0.89642209\n",
      " 0.9466933  0.86656064 0.99728845 0.97779164 0.71844886 0.94032383\n",
      " 0.89987038 0.97081429 0.98627435 0.97175285 0.99431726 0.89841489\n",
      " 0.93943522 0.67826928 0.83108902 0.79668139 0.88014314 0.92886211\n",
      " 0.98141545 0.89457344 0.82989558 0.90463042 0.87109962 0.98461045\n",
      " 0.98090371 0.85830956 0.92945076 0.84462091 0.964841   0.91425698\n",
      " 0.89166585 0.8134987  0.92970537 0.98186826 0.84344308 0.99399728\n",
      " 0.69596288 0.75215657 0.9004606  0.94029968 0.94947782 0.88552816\n",
      " 0.98735765 0.84016375 0.81296938 0.98165787 0.97903885 0.94885806\n",
      " 0.87904019 0.98039301 0.93045004 0.85333032 0.96140421 0.97213709\n",
      " 0.9740985  0.8164904  0.91386342 0.76809847 0.91365879 0.97394506\n",
      " 0.91688648 0.889133   0.89632015 0.8404721  0.9272433  0.93787106\n",
      " 0.72925626 0.72261661 0.69662321 0.85876023 0.86827863 0.95815115\n",
      " 0.98166854 0.89103676 0.93790133 0.98098374 0.99551023 0.98411912\n",
      " 0.98953555 0.91969669 0.99225258 0.95248004 0.98476671 0.92742444\n",
      " 0.76191935 0.88256143 0.96943048 0.99296458 0.98708896 0.97601409\n",
      " 0.90630489 0.75673565 0.76841163 0.97977836 0.7421077  0.74679391\n",
      " 0.74240618 0.98313568 0.85994836 0.8374048  0.85795896 0.97767851\n",
      " 0.93888362 0.99821786 0.95340661 0.95412513 0.9331509  0.84676693\n",
      " 0.8843911  0.9230335  0.99033461 0.8994197  0.97412357 0.89610464\n",
      " 0.97305806 0.67800341 0.85000349 0.77203637 0.9943828  0.76762071\n",
      " 0.94155825 0.97184485 0.92318801 0.69104213 0.90896353 0.98323857\n",
      " 0.98356104 0.97551452 0.9699453  0.59395924 0.97222774 0.9220897\n",
      " 0.96488345 0.98935618 0.9884668  0.95654159 0.91170052 0.98386668\n",
      " 0.85009944 0.97700876 0.76629633 0.85847655 0.96334553 0.78811104\n",
      " 0.96400125 0.89699914 0.90211537 0.95787666 0.85094361 0.9188531\n",
      " 0.74608432 0.94420987 0.9833413  0.90386036 0.99089941 0.97598574\n",
      " 0.89316781 0.88199133 0.98408791 0.95890588 0.97298079 0.87024137\n",
      " 0.94671971 0.78663388 0.97021374 0.92196748 0.88813412 0.90161433\n",
      " 0.88968531 0.99347125 0.99500768 0.96668536 0.91628589 0.48137804\n",
      " 0.99064413 0.98143427 0.99686631 0.93091126 0.88841576 0.6838222\n",
      " 0.95795996 0.95125172 0.76963641 0.91402508 0.96161966 0.90634035\n",
      " 0.97456264 0.97689312 0.83744381 0.91458055 0.81763072 0.81331381\n",
      " 0.88027175 0.99191039 0.93210489 0.96961957 0.92398094 0.97009256\n",
      " 0.87141356 0.96040891 0.90951343 0.81810278 0.69740189 0.84138638\n",
      " 0.92833581 0.75819534 0.83331452 0.9998594  0.93316111 0.89685775\n",
      " 0.96177057 0.82388566 0.96203643 0.94563855 0.99261691 0.89734474\n",
      " 0.87493953 0.84086975 0.99272728 0.9230794  0.78547092 0.92647398\n",
      " 0.85642706 0.93146394 0.99822748 0.95458879 0.98570109 0.81179411\n",
      " 0.88940217 0.96762581 0.9982191  0.93587368 0.97186595 0.99124493\n",
      " 0.83379124 0.87226211 0.93499488 0.95717492 0.89342835 0.99834665\n",
      " 0.99139742 0.99769256 0.86695003 0.98782285 0.97904522 0.82500717\n",
      " 0.93008136 0.77515615 0.98922211 0.91678282 0.95036175 0.96812\n",
      " 0.88746707 0.78139264 0.90164533 0.98228345 0.86121536 0.90003339\n",
      " 0.9759878  0.94932289 0.9776195  0.92204138 0.94398366 0.85059679\n",
      " 0.82610076 0.90641036 0.99670711 0.8192818  0.9316624  0.92542622\n",
      " 0.98668525 0.88454049 0.94579219 0.92906788 0.96892599 0.88717861\n",
      " 0.89014244 0.84349033 0.88069496 0.95223014 0.87049072 0.97895595\n",
      " 0.99774655 0.89009448 0.96457627 0.92793884 0.99874484 0.78335803\n",
      " 0.81170025 0.96163723 0.88707147 0.66808134 0.81715944 0.98342769\n",
      " 0.99080754 0.92020532 0.89055769 0.99652142 0.85945015 0.99603474\n",
      " 0.7766241  0.93455451 0.83861207 0.75232699 0.90321754 0.97915339\n",
      " 0.94190669 0.93595758 0.93120468 0.90759481 0.88103878 0.81857672\n",
      " 0.785065   0.84022863 0.98815921 0.85626281 0.96506492 0.88761302\n",
      " 0.88481717 0.97915428 0.95589085 0.92522824 0.91136117 0.71877261\n",
      " 0.79589516 0.76111201 0.95369396 0.79672157 0.9247994  0.9013858\n",
      " 0.98676884 0.84918101 0.95615847 0.91232902 0.9018471  0.85483843\n",
      " 0.92338434 0.98737917 0.85958268 0.91154854 0.78818549 0.97446123\n",
      " 0.98227233 0.97680211 0.92918001 0.96709303 0.94299425 0.88818804\n",
      " 0.90320223 0.93495509 0.95936274 0.59520664 0.94535262 0.67741841\n",
      " 0.99399313 0.91355181 0.83042207 0.95333349 0.88701353 0.97285786\n",
      " 0.95324258 0.62797136 0.679582   0.98605656 0.99367337 0.97429852\n",
      " 0.82817748 0.99969808 0.84738202 0.92739924 0.93138971 0.99206516\n",
      " 0.85350534 0.91481647 0.83887019 0.93519321 0.89707635 0.99132226\n",
      " 0.98313863 0.96141822 0.8519821  0.92115123 0.96380863 0.86162131\n",
      " 0.9751207  0.98659961 0.98564856 0.99234897 0.88916939 0.91696275\n",
      " 0.9082779  0.93706653 0.9508089  0.868262   0.95641033 0.99636563\n",
      " 0.99060657 0.82925467 0.88472641 0.67715286 0.89364877 0.98266032\n",
      " 0.9348362  0.93040538 0.90745981 0.98901208 0.91231262 0.80637737\n",
      " 0.92792776 0.86482119 0.58246318 0.8027338  0.89515742 0.91377188\n",
      " 0.79078659 0.91495082 0.94435624 0.95880502 0.97019847 0.92728783\n",
      " 0.8692622  0.9819804  0.97941573 0.99681938 0.96519247 0.92883258\n",
      " 0.6785287  0.78588865 0.99150115 0.88071659 0.89801325 0.88611772\n",
      " 0.83639762 0.9762264  0.93391364 0.71433599 0.92230221 0.98994817\n",
      " 0.90850304 0.85760147 0.80437405 0.83452167 0.97958241 0.76347507\n",
      " 0.70667787 0.99728177 0.94086222 0.81596316 0.99434362 0.80065156\n",
      " 0.9707568  0.99562899 0.77800338 0.98167912 0.84317319 0.97449664\n",
      " 0.98063034 0.91743735 0.86456407 0.97640857 0.99866902 0.88994004\n",
      " 0.89137169 0.95927386 0.91194315 0.80756993 0.95565343 0.76732682\n",
      " 0.7521629  0.99189645 0.93034262 0.99354493 0.81827865 0.96696691\n",
      " 0.88787251 0.99944641 0.98960098 0.99917038 0.97434909 0.72889073\n",
      " 0.77223556 0.75418259 0.90816291 0.69108615 0.97223855 0.99041113\n",
      " 0.93719748 0.94785946 0.96404534 0.88864939 0.84553014 0.97115894\n",
      " 0.62787307 0.93468219 0.98988695 0.93788691 0.93988684 0.80277547\n",
      " 0.9906017  0.99829364 0.93620514 0.96805688 0.9418611  0.97869588\n",
      " 0.80850988 0.77505622 0.96293604 0.95498875 0.99500786 0.88261016\n",
      " 0.97451945 0.98431074 0.96574559 0.97567492 0.92331931 0.99674488\n",
      " 0.9936361  0.63234697 0.85575432 0.92255984 0.96555053 0.87801858\n",
      " 0.97789625 0.99919304 0.99512831 0.99835314 0.94415993 0.91568766\n",
      " 0.92899769 0.97154099 0.68580198 0.99637041 0.93483417 0.84727825\n",
      " 0.95740993 0.95750105 0.78794992 0.86929579 0.99459709 0.93571455\n",
      " 0.98397244 0.93527093 0.93302565 0.95975779 0.91909599 0.8143838\n",
      " 0.69764369 0.94256668 0.91279123 0.95241445 0.87263178 0.72572556\n",
      " 0.90432238 0.78480167 0.84398033 0.81554299 0.96427066 0.88031221\n",
      " 0.96473562 0.94487101 0.96850483 0.81303965 0.98631961 0.98766537\n",
      " 0.88468149 0.86640932 0.73728283 0.94435534 0.90290576 0.86893512\n",
      " 0.8487926  0.97906583 0.98993061 0.97157477 0.85370388 0.8351114\n",
      " 0.8453948  0.87887192 0.85901698 0.87834273 0.81306897 0.87086115\n",
      " 0.96933337 0.97196552 0.9650426  0.85249391 0.88325416 0.86302983\n",
      " 0.80541345 0.89190644 0.85064186 0.80026249 0.90427219 0.94319461\n",
      " 0.97512805 0.99969654 0.96656984 0.89089169 0.61440074 0.88373406\n",
      " 0.97774998 0.94426331 0.98865655 0.77395839 0.91952426 0.89233766\n",
      " 0.99953687 0.91570462 0.61424715 0.87849679 0.89876616 0.90425268\n",
      " 0.89971633 0.90583066 0.95551863 0.99100976 0.8134139  0.94357116\n",
      " 0.94160025 0.96989506 0.86890914 0.88305978 0.77644868 0.96387484\n",
      " 0.87911856 0.9434764  0.84808824 0.89597458 0.67598007 0.96312983\n",
      " 0.81858572 0.93681528 0.99572211 0.78543682 0.80197859 0.93765954\n",
      " 0.91111007 0.91052585 0.99975651 0.85850494 0.78899141 0.95412606\n",
      " 0.99457473 0.88761112 0.97878787 0.90786877 0.97937129 0.91062792\n",
      " 0.94951294 0.59457366 0.98883715 0.94824301 0.95605108 0.87508408\n",
      " 0.89496997 0.89147525 0.99204334 0.68532048 0.98608258 0.95818367\n",
      " 0.69172573 0.87086935 0.85857768 0.94351913 0.67050306 0.88204297\n",
      " 0.96788139 0.91175009 0.98949271 0.99651719 0.95416138 0.91463535\n",
      " 0.92174979 0.88539627 0.97187982 0.99395846 0.89982281 0.81496692\n",
      " 0.74327794 0.97413556 0.90818034 0.95278435 0.95062807 0.88033158\n",
      " 0.83662477 0.9472391  0.98097067 0.88102684 0.96255791 0.97217003\n",
      " 0.9058489  0.97395232 0.98752654 0.90319947 0.89442355 0.98508058\n",
      " 0.99978653 0.97933934 0.86896492 0.93149837 0.8442981  0.99253297\n",
      " 0.71835085 0.94412514 0.99464906 0.99487798 0.922124   0.85947501\n",
      " 0.93922929 0.94738101 0.98177744 0.98138919 0.98570782 0.98815966\n",
      " 0.99749336 0.85873552 0.92039258 0.82783622 0.86602892 0.94948264\n",
      " 0.99421901 0.98266101 0.98350313 0.93072329 0.92057446 0.81582127\n",
      " 0.95533378 0.93373601 0.91072542 0.91390925 0.99596192 0.80087354\n",
      " 0.94142736 0.91860682 0.9325237  0.96360688 0.81736572 0.94655334\n",
      " 0.93160265 0.90964016 0.92450745 0.94757163 0.93267598 0.94953345\n",
      " 0.95489614 0.94465493 0.99076705 0.94866953 0.93134316 0.94068017\n",
      " 0.62630898 0.88702205 0.88192757 0.95644519 0.98103894 0.86677299\n",
      " 0.99244262 0.98098786 0.93382126 0.84170662 0.99886732 0.73104268\n",
      " 0.83419945 0.94313253 0.88990201 0.9799385  0.88039187 0.98815115\n",
      " 0.97582232 0.70134218 0.99716113 0.87019942 0.93767618 0.72136674\n",
      " 0.86550498 0.98053902 0.96966631 0.97859611 0.98470278 0.73263953\n",
      " 0.98340843 0.97081647 0.75291204 0.71746857 0.95874759 0.96528038\n",
      " 0.9964127  0.74399676 0.94291103 0.88759609 0.92519965 0.83500683\n",
      " 0.98630917 0.92864177 0.91905474 0.98064617 0.88282279 0.78104755\n",
      " 0.99007803 0.90193507 0.81529711 0.8434682  0.9598284  0.98967644\n",
      " 0.81182849 0.93796691 0.84337412 0.90984443 0.99773873 0.85974508\n",
      " 0.74913821 0.92141605 0.95880064 0.95515732 0.87220009 0.98052161\n",
      " 0.90795847 0.99521874 0.71013651 0.93416248 0.84639931 0.94553048\n",
      " 0.90613693 0.97407556 0.9703157  0.96622459 0.99358679 0.7688293\n",
      " 0.96403986 0.57092203 0.97559762 0.69879204 0.93615932 0.90953594\n",
      " 0.99738268 0.91382511 0.8887008  0.94862242 0.90077746 0.80816303\n",
      " 0.931171   0.89116033 0.9763222  0.99617363 0.94496263 0.87624243\n",
      " 0.8827349  0.86893644 0.72330171 0.92645158 0.8156683  0.86072803\n",
      " 0.93262013 0.97963431 0.85665672 0.93550699 0.96389215 0.99115344\n",
      " 0.97559775 0.74749863 0.91642548 0.79902432 0.77415669 0.9487959\n",
      " 0.92644596 0.98562444 0.98472481 0.93522838 0.99344659 0.87210237\n",
      " 0.86652526 0.93411905 0.99412622 0.65571648 0.99082488 0.97898074\n",
      " 0.97221149 0.98442533 0.88556284 0.96835954 0.96448868 0.94087625\n",
      " 0.88435288 0.92948357 0.91758322 0.92060224 0.89209684 0.94351584\n",
      " 0.92249093 0.86496538 0.9440123  0.9545551  0.93119488 0.83177809\n",
      " 0.98307824 0.99950844 0.98221324 0.84883446 0.89440296 0.93271384\n",
      " 0.93577002 0.99370682 0.57796575 0.95426783 0.96143028 0.91534722\n",
      " 0.98059891 0.82487047 0.74111324 0.94279355 0.87001212 0.94648101\n",
      " 0.71551237 0.92960506 0.94156862 0.93542944 0.85693397 0.98804548\n",
      " 0.96280931 0.95689663 0.99871316 0.90853109 0.96116639 0.90652529\n",
      " 0.91958172 0.98046664 0.97780938 0.93277874 0.94516959 0.62605918\n",
      " 0.9383995  0.98556627 0.98935387 0.82194345 0.98102357 0.92365326\n",
      " 0.90111703 0.97053373 0.95707826 0.86501396 0.87953109 0.99293922\n",
      " 0.95187745 0.93190789 0.9973192  0.98190132 0.75127798 0.92965453\n",
      " 0.97915402 0.94632742 0.88055728 0.90448122 0.97439952 0.87944134\n",
      " 0.77782037 0.81456587 0.99322518 0.99960622 0.98032979 0.55732041\n",
      " 0.98865806 0.97751017 0.88472265 0.98185207 0.95034925 0.77226479\n",
      " 0.75220443 0.91276888 0.99531128 0.95831478]\n"
     ]
    }
   ],
   "source": [
    "from scipy.stats import beta\n",
    "\n",
    "#beta random - rvs = random\n",
    "#data should be skewed right\n",
    "beta_example = beta.rvs(10, 1, size=1000) # alpha, beta, size\n",
    "print(\"Random variates from Beta Distribution: \\n\", beta_example)"
   ]
  },
  {
   "cell_type": "code",
   "execution_count": 23,
   "metadata": {},
   "outputs": [
    {
     "data": {
      "text/plain": [
       "[Text(0, 0.5, 'Frequency'), Text(0.5, 0, 'Beta(10,1)')]"
      ]
     },
     "execution_count": 23,
     "metadata": {},
     "output_type": "execute_result"
    },
    {
     "data": {
      "image/png": "[encoded data removed]",
      "text/plain": [
       "<Figure size 432x288 with 1 Axes>"
      ]
     },
     "metadata": {
      "needs_background": "light"
     },
     "output_type": "display_data"
    }
   ],
   "source": [
    "#verify if data skewed right\n",
    "beta_example = beta.rvs(10, 1, size=1000)\n",
    "#density-yes, colour, linewidth\n",
    "beta_plot=sn.distplot(beta_example, kde=True, color='teal', hist_kws={'linewidth':15, 'alpha':1})\n",
    "#plot labels\n",
    "beta_plot.set(xlabel=\"Beta(10,1)\", ylabel=\"Frequency\")"
   ]
  },
  {
   "cell_type": "code",
   "execution_count": 24,
   "metadata": {},
   "outputs": [
    {
     "data": {
      "text/plain": [
       "[Text(0, 0.5, 'Frequency'), Text(0.5, 0, 'Beta(100,100)')]"
      ]
     },
     "execution_count": 24,
     "metadata": {},
     "output_type": "execute_result"
    },
    {
     "data": {
      "image/png": "[encoded data removed]",
      "text/plain": [
       "<Figure size 432x288 with 1 Axes>"
      ]
     },
     "metadata": {
      "needs_background": "light"
     },
     "output_type": "display_data"
    }
   ],
   "source": [
    "#the data is more normal \n",
    "beta_example2 = beta.rvs(100, 100, size=10000)\n",
    "#density-yes, colour, linewidth\n",
    "beta_plot1=sn.distplot(beta_example2, kde=True, color='lightcoral', hist_kws={'linewidth':15, 'alpha':1})\n",
    "#label\n",
    "beta_plot1.set(xlabel=\"Beta(100,100)\", ylabel=\"Frequency\")"
   ]
  },
  {
   "cell_type": "code",
   "execution_count": 25,
   "metadata": {},
   "outputs": [
    {
     "data": {
      "text/plain": [
       "[Text(0, 0.5, 'Frequency'), Text(0.5, 0, 'Beta(1,1)')]"
      ]
     },
     "execution_count": 25,
     "metadata": {},
     "output_type": "execute_result"
    },
    {
     "data": {
      "image/png": "[encoded data removed]",
      "text/plain": [
       "<Figure size 432x288 with 1 Axes>"
      ]
     },
     "metadata": {
      "needs_background": "light"
     },
     "output_type": "display_data"
    }
   ],
   "source": [
    "#the data is more uniform \n",
    "beta_example3 = beta.rvs(1, 1, size=10000)\n",
    "sn.set_palette(\"colorblind\") # change colour palette\n",
    "#density-yes, colour, bins, linewidth\n",
    "beta_plot2=sn.distplot(beta_example3, color=\"darkmagenta\", bins=45, kde=True, hist_kws={'linewidth':15, 'alpha':1})\n",
    "#label\n",
    "beta_plot2.set(xlabel=\"Beta(1,1)\", ylabel=\"Frequency\")"
   ]
  },
  {
   "cell_type": "markdown",
   "metadata": {},
   "source": [
    "The above graphs clearly demonstrate that the value of alpha and beta drastically change the beta distribution shape"
   ]
  },
  {
   "cell_type": "markdown",
   "metadata": {},
   "source": [
    "#### Poisson Distribution\n",
    "\n",
    "A Poisson distribution is a tool that helps to predict the probability of certain events from happening when you know how often the event has occurred. It gives us the probability of a given number of events happening in a fixed interval of time.\n",
    "Poisson distribution is used for count-based distributions where these events happen with a known average rate and independently of the time since the last event. The Poisson distribution is a discrete function, meaning that the event can only be measured as occurring or not as occurring, meaning the variable can only be measured in whole numbers."
   ]
  },
  {
   "cell_type": "code",
   "execution_count": 33,
   "metadata": {},
   "outputs": [
    {
     "data": {
      "text/plain": [
       "[Text(0, 0.5, 'Frequency'), Text(0.5, 0, 'Poisson Distribution')]"
      ]
     },
     "execution_count": 33,
     "metadata": {},
     "output_type": "execute_result"
    },
    {
     "data": {
      "image/png": "[encoded data removed]",
      "text/plain": [
       "<Figure size 432x288 with 1 Axes>"
      ]
     },
     "metadata": {
      "needs_background": "light"
     },
     "output_type": "display_data"
    }
   ],
   "source": [
    "from scipy.stats import poisson\n",
    "#mu = mean set at 3\n",
    "poisson_plot = poisson.rvs(mu=3, size=10000)\n",
    "#density-no, colour, linewidth\n",
    "PP = sn.distplot(poisson_plot, \n",
    "                  kde=False,\n",
    "                  color='darkkhaki',\n",
    "                  hist_kws={\"linewidth\": 15,'alpha':1})\n",
    "#plot labels\n",
    "PP.set(xlabel='Poisson Distribution', ylabel='Frequency')"
   ]
  },
  {
   "cell_type": "markdown",
   "metadata": {},
   "source": [
    "##### Exponential Distribution\n",
    "The exponential distribution represents a process in which events occur continuously and independently at a constant average rate."
   ]
  },
  {
   "cell_type": "code",
   "execution_count": 27,
   "metadata": {
    "scrolled": true
   },
   "outputs": [
    {
     "data": {
      "text/plain": [
       "[Text(0, 0.5, 'Frequency'), Text(0.5, 0, 'Exponential Distribution')]"
      ]
     },
     "execution_count": 27,
     "metadata": {},
     "output_type": "execute_result"
    },
    {
     "data": {
      "image/png": "[encoded data removed]",
      "text/plain": [
       "<Figure size 432x288 with 1 Axes>"
      ]
     },
     "metadata": {
      "needs_background": "light"
     },
     "output_type": "display_data"
    }
   ],
   "source": [
    "#numpy.random.exponential(scale=1.0, size=None)\n",
    "#scale= \\beta = 1/\\lambda. size = no. samples to draw\n",
    "from scipy.stats import expon\n",
    "#use built in expon.rvs\n",
    "expon_plot = expon.rvs(scale=1,size=1000)\n",
    "#density-yes, colour, bin size and linewidth\n",
    "plot_expon = sn.distplot(expon_plot, kde=True,bins=100, color='skyblue', hist_kws={\"linewidth\": 15,'alpha':1})\n",
    "#Labels\n",
    "plot_expon.set(xlabel='Exponential Distribution', ylabel='Frequency')"
   ]
  },
  {
   "cell_type": "markdown",
   "metadata": {},
   "source": [
    "#### The function of seeds in generating pseudo random numbers\n",
    "The seed method in numpy is used to initialize the pseudorandom number generator in Python. \n",
    "The numpy.random functions/modules are not truly random, they are what is called pseudo-random. Which basically means, it creates the numbers from some original value (known as the seed value). A computer cannot be completely random, they are deterministic machines. Computers are given designated inputs which they follow precisely to produce an output.\n",
    "The numpy random module uses the seed value as a base to generate a random number. If seed value is not present, it takes a system current time.\n",
    "\n",
    "The random.seed function works in combination with all the random generating modules within numpy, for example random.rand, random.randint, random.choice and randn. \n",
    "\n",
    "The np.random.seed function provides and input for the pseudo-random number generator in Python.\n",
    "\n",
    "Essentially, NumPy random seed is used when we need to generate pseudo-random numbers in a repeatable way."
   ]
  },
  {
   "cell_type": "code",
   "execution_count": 28,
   "metadata": {},
   "outputs": [
    {
     "name": "stdout",
     "output_type": "stream",
     "text": [
      "Random number with seed 8: 0.8734294027918162\n",
      "Random number with seed 8: 0.8734294027918162\n",
      "Random number with seed 8: 0.8734294027918162\n"
     ]
    }
   ],
   "source": [
    "#numpy. random.seed(seed=None) - seed = integer/1-d array\n",
    "#if seed = None, the systems current time is taken\n",
    "\n",
    "np.random.seed(8)\n",
    "print(\"Random number with seed 8:\", np.random.rand())\n",
    "#the same number keeps generating because the seed remains constant.\n",
    "np.random.seed(8)\n",
    "print(\"Random number with seed 8:\", np.random.rand())\n",
    "np.random.seed(8)\n",
    "print(\"Random number with seed 8:\", np.random.rand())\n",
    "#the same number generated 3 times"
   ]
  },
  {
   "cell_type": "code",
   "execution_count": 29,
   "metadata": {},
   "outputs": [
    {
     "name": "stdout",
     "output_type": "stream",
     "text": [
      "Random number with seed 8: 0.8734294027918162 \n",
      "\n",
      "Random number with seed : 0.968540662820932 \n",
      "\n",
      "Random number with seed : 0.86919454021392 \n",
      "\n",
      "Random number with seed 8: 0.8734294027918162 \n",
      "\n"
     ]
    }
   ],
   "source": [
    "#the seed is the fountain of generating pseudo-random numbers and defines what # will be generated next\n",
    "#seed value is 8\n",
    "np.random.seed(8)\n",
    "print(\"Random number with seed 8:\", np.random.rand(), \"\\n\")\n",
    "\n",
    "#by not selecting seed 8 again the number generated by randint changes\n",
    "#the new number generated becomes the new seed unless changed by user\n",
    "print(\"Random number with seed :\", np.random.rand(), \"\\n\")\n",
    "#number changes again because the seed is different\n",
    "print(\"Random number with seed :\", np.random.rand(), \"\\n\")\n",
    "\n",
    "#seed is 8 - output is the same as seed 8 above\n",
    "np.random.seed(8)\n",
    "print(\"Random number with seed 8:\", np.random.rand(), \"\\n\")"
   ]
  },
  {
   "cell_type": "code",
   "execution_count": 36,
   "metadata": {},
   "outputs": [
    {
     "name": "stdout",
     "output_type": "stream",
     "text": [
      "Original Sequence: [1, 2, 3, 4, 5] \n",
      "\n",
      "shuffled sequence: [1, 4, 2, 5, 3] \n",
      "\n",
      "2nd shuffled sequence: [1, 4, 2, 5, 3] \n",
      "\n",
      "Words shuffled: [['Project'], ['Data'], ['Hi'], ['Kevin']]\n"
     ]
    }
   ],
   "source": [
    "#random.seed can be used in combination with random.shuffle\n",
    "#random.seed & random.shuffle together will result in same sequence each shuffle\n",
    "#can also be used with lists of words\n",
    "\n",
    "#first sequence\n",
    "number_sequence=[1, 2, 3, 4, 5]\n",
    "print(\"Original Sequence:\", number_sequence, \"\\n\")\n",
    "\n",
    "#2nd sequence with seed & shuffle. Sequence will change\n",
    "np.random.seed(4)\n",
    "np.random.shuffle(number_sequence)\n",
    "print(\"shuffled sequence:\", number_sequence, \"\\n\")\n",
    "\n",
    "#3rd sequence with seed & shuffle. Sequence will remain same as 2nd\n",
    "#sequence remains the same because seed is constant\n",
    "number_sequence=[1, 2, 3, 4, 5]\n",
    "np.random.seed(4)\n",
    "np.random.shuffle(number_sequence)\n",
    "print(\"2nd shuffled sequence:\", number_sequence, \"\\n\")\n",
    "\n",
    "#words shuffled\n",
    "words=[[\"Hi\"], [\"Kevin\"], [\"Data\"], [\"Project\"]]\n",
    "np.random.seed(1)\n",
    "np.random.shuffle(words)\n",
    "print(\"Words shuffled:\", words)"
   ]
  },
  {
   "cell_type": "markdown",
   "metadata": {},
   "source": [
    "#### Conclusion\n",
    "Numpy is a basic, easy to use but powerful package for scientific computing and data manipulation in python. It seamlessly works in conjuction with seaborn to illustrate easy to visualise plots. The numpy.random function makes it easy to generate 'random' numbers (a.k.a pseudo-random numbers) and use them to complete statisitical analysis on random data.\n",
    "\n",
    "The was an interesting and challenging project because while the Numpy & Scipy documentation contains all the information to use the packages correctly, they are written using top level terms assuming you have a strong knowledge prior python. This assignment has been great to learn the basics step by step. As I progressed, I began to understand the documentation and methodology of the NumPy package and its functions.\n",
    "\n",
    "Completing this assignment was a great way to develop NumPy understanding and is a step in the correct direction for machine and deep learning.\n"
   ]
  },
  {
   "cell_type": "code",
   "execution_count": null,
   "metadata": {},
   "outputs": [],
   "source": []
  }
 ],
 "metadata": {
  "kernelspec": {
   "display_name": "Python 3",
   "language": "python",
   "name": "python3"
  },
  "language_info": {
   "codemirror_mode": {
    "name": "ipython",
    "version": 3
   },
   "file_extension": ".py",
   "mimetype": "text/x-python",
   "name": "python",
   "nbconvert_exporter": "python",
   "pygments_lexer": "ipython3",
   "version": "3.7.1"
  }
 },
 "nbformat": 4,
 "nbformat_minor": 2
}
