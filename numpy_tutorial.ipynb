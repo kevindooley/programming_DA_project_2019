{
 "cells": [
  {
   "cell_type": "markdown",
   "metadata": {},
   "source": [
    "# Programming for Data Analysis Project 2019\n",
    "### By Kevin Dooley"
   ]
  },
  {
   "cell_type": "markdown",
   "metadata": {},
   "source": [
    "# Title: Tutorial/Review on the 'numpy' package in Python"
   ]
  },
  {
   "cell_type": "markdown",
   "metadata": {},
   "source": [
    "### What is NumPy?\n",
    "NimPy stands for Numerical Python and is a library consisting of multidimensional array objects with a collection of functions of processing those arrays. NumPy is a fundamental package for scientific computing with Python. \n",
    "\n",
    "NumPy is usually used in combination with packages like SciPy and Matplotlib when completing aspects of data analysis.\n",
    "\n",
    "\n",
    "In this tutorial, I will explain the basics of NumPy such as its architecture and environment."
   ]
  },
  {
   "cell_type": "markdown",
   "metadata": {},
   "source": [
    "### How to install Numpy?\n",
    "I recommend downloading Python through Anaconda which comes with Numpy already built in. You can also download NumPy separately through (link)."
   ]
  },
  {
   "cell_type": "markdown",
   "metadata": {},
   "source": [
    "### Getting started with NumPy\n",
    "The first step is to import Numpy"
   ]
  },
  {
   "cell_type": "code",
   "execution_count": 3,
   "metadata": {},
   "outputs": [],
   "source": [
    "import numpy as np\n",
    "import matplotlib as plt\n",
    "import seaborn as sn"
   ]
  },
  {
   "cell_type": "markdown",
   "metadata": {},
   "source": [
    "### Simple random data"
   ]
  },
  {
   "cell_type": "markdown",
   "metadata": {},
   "source": [
    "#### Define Simple random data\n",
    "Simple random data is set of n objects in a population of N objects where all possible samples are equally likely to happen. Basically it means that any number in a statistical population has an equal probibility of being chosen."
   ]
  },
  {
   "cell_type": "code",
   "execution_count": 4,
   "metadata": {},
   "outputs": [],
   "source": [
    "##### numpy.random has many different functions to demonstrate matrix arrays"
   ]
  },
  {
   "cell_type": "code",
   "execution_count": 29,
   "metadata": {},
   "outputs": [
    {
     "name": "stdout",
     "output_type": "stream",
     "text": [
      "1D Array [0.75292928 0.3813391 ] \n",
      "\n",
      "2D Array [[0.85073879 0.35823821 0.30926522]\n",
      " [0.03738218 0.5130259  0.00349349]] \n",
      "\n"
     ]
    },
    {
     "data": {
      "text/plain": [
       "array([[[0.83497875, 0.86581621, 0.15291892],\n",
       "        [0.87506843, 0.40750677, 0.60371096],\n",
       "        [0.42817101, 0.48916313, 0.36955114]],\n",
       "\n",
       "       [[0.47454389, 0.54951209, 0.9728669 ],\n",
       "        [0.93277486, 0.34446564, 0.82268275],\n",
       "        [0.38123777, 0.66739526, 0.56936398]],\n",
       "\n",
       "       [[0.34430632, 0.42380239, 0.85357205],\n",
       "        [0.1993451 , 0.83675195, 0.96944067],\n",
       "        [0.58724273, 0.54497881, 0.44151604]]])"
      ]
     },
     "execution_count": 29,
     "metadata": {},
     "output_type": "execute_result"
    }
   ],
   "source": [
    "# this function generates random values in a given shape depending on the input\n",
    "# the function can output multidimensional arrays or random numbers\n",
    "# numpy.random.rand creates a ndarry of the given shapeand populates it with ranom samples of a uniform distribution\n",
    "\n",
    "# 1 input of the same object type= 1D array\n",
    "print(\"1D Array\", np.random.rand(2), \"\\n\")\n",
    "\n",
    "# 2 inputs of the same object type= 2D array\n",
    "print(\"2D Array\", np.random.rand(2, 3), \"\\n\")\n",
    "\n",
    "# 3 inputs of the same object type.= 3D array\n",
    "np.random.rand(3, 3, 3)\n"
   ]
  },
  {
   "cell_type": "code",
   "execution_count": null,
   "metadata": {},
   "outputs": [],
   "source": [
    "numpy.random.rand\n",
    "\n",
    "# this function results a number from standard normal distribution."
   ]
  },
  {
   "cell_type": "code",
   "execution_count": null,
   "metadata": {},
   "outputs": [],
   "source": []
  },
  {
   "cell_type": "code",
   "execution_count": null,
   "metadata": {},
   "outputs": [],
   "source": []
  }
 ],
 "metadata": {
  "kernelspec": {
   "display_name": "Python 3",
   "language": "python",
   "name": "python3"
  },
  "language_info": {
   "codemirror_mode": {
    "name": "ipython",
    "version": 3
   },
   "file_extension": ".py",
   "mimetype": "text/x-python",
   "name": "python",
   "nbconvert_exporter": "python",
   "pygments_lexer": "ipython3",
   "version": "3.7.1"
  }
 },
 "nbformat": 4,
 "nbformat_minor": 2
}
