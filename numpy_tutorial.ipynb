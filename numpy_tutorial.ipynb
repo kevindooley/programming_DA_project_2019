{
 "cells": [
  {
   "cell_type": "markdown",
   "metadata": {},
   "source": [
    "# Programming for Data Analysis Project 2019\n",
    "### By Kevin Dooley"
   ]
  },
  {
   "cell_type": "markdown",
   "metadata": {},
   "source": [
    "# Title: Tutorial/Review on the 'numpy' package in Python"
   ]
  },
  {
   "cell_type": "markdown",
   "metadata": {},
   "source": [
    "### What is NumPy?\n",
    "NimPy stands for Numerical Python and is a library consisting of multidimensional array objects with a collection of functions of processing those arrays. NumPy is a fundamental package for scientific computing with Python. \n",
    "\n",
    "NumPy is usually used in combination with packages like SciPy and Matplotlib when completing aspects of data analysis.\n",
    "\n",
    "\n",
    "In this tutorial, I will explain the basics of NumPy such as its architecture and environment."
   ]
  },
  {
   "cell_type": "markdown",
   "metadata": {},
   "source": [
    "### How to install Numpy?\n",
    "I recommend downloading Python through Anaconda which comes with Numpy already built in. You can also download NumPy separately through (link)."
   ]
  },
  {
   "cell_type": "markdown",
   "metadata": {},
   "source": [
    "### Getting started with NumPy\n",
    "The first step is to import Numpy and supporting python packages."
   ]
  },
  {
   "cell_type": "code",
   "execution_count": 5,
   "metadata": {},
   "outputs": [],
   "source": [
    "import numpy as np\n",
    "import matplotlib.pyplot as plt\n",
    "import seaborn as sn\n",
    "\n",
    "# notice abbreviations for each package as these will be used throughout the jupyter notebook"
   ]
  },
  {
   "cell_type": "markdown",
   "metadata": {},
   "source": [
    "### Simple random data\n",
    "#### Define Simple random data\n",
    "Simple random data is set of n objects in a population of N objects where all possible samples are equally likely to happen. Basically it means that any set of numbers in a statistical population has an equal and independent probibility of being selected. A real life example of this is the lottery."
   ]
  },
  {
   "cell_type": "code",
   "execution_count": 6,
   "metadata": {},
   "outputs": [
    {
     "name": "stdout",
     "output_type": "stream",
     "text": [
      "1D Array \n",
      " [0.97448192 0.82927373] \n",
      "\n",
      "2D Array \n",
      " [[0.99916418 0.01543327 0.47162362]\n",
      " [0.38181289 0.92728288 0.86661252]] \n",
      "\n",
      "3D array \n",
      " [[[0.0325275  0.78503198 0.43858236]\n",
      "  [0.70484573 0.55102609 0.9698176 ]\n",
      "  [0.76452177 0.43856657 0.69433173]]\n",
      "\n",
      " [[0.35830291 0.99748633 0.77439336]\n",
      "  [0.22929411 0.2704193  0.56038435]\n",
      "  [0.89811851 0.53673759 0.36323375]]\n",
      "\n",
      " [[0.63796159 0.69814033 0.27637458]\n",
      "  [0.13624995 0.90970367 0.56546358]\n",
      "  [0.50890353 0.9182491  0.11488536]]] \n",
      "\n"
     ]
    }
   ],
   "source": [
    "# numpy.random has many different built in functions to demonstrate matrix arrays\n",
    "# the first one I will demonstrate is np.random.rand()\n",
    "# this function generates random values in a given shape depending on the input from the user\n",
    "# the function can output multidimensional arrays of random numbers\n",
    "# numpy.random.rand creates a ndarry of the given shape and populates it with random samples of a uniform distribution\n",
    "# \"\\n\" used to format arrays - creates a new line\n",
    "\n",
    "# 1 input of the same object type = 1D array\n",
    "print(\"1D Array\",\"\\n\",np.random.rand(2), \"\\n\")\n",
    "\n",
    "# 2 inputs of the same object type = 2D array\n",
    "print(\"2D Array\",\"\\n\",np.random.rand(2, 3), \"\\n\")\n",
    "\n",
    "# 3 inputs of the same object type = 3D array\n",
    "print(\"3D array\",\"\\n\",np.random.rand(3, 3, 3), \"\\n\")\n"
   ]
  },
  {
   "cell_type": "code",
   "execution_count": 7,
   "metadata": {},
   "outputs": [
    {
     "data": {
      "image/png": "[encoded data removed]",
      "text/plain": [
       "<Figure size 432x288 with 1 Axes>"
      ]
     },
     "metadata": {
      "needs_background": "light"
     },
     "output_type": "display_data"
    }
   ],
   "source": [
    "# histogram to show 'rand' function demonstrates uniform distribution\n",
    "# using 2D array as example\n",
    "\n",
    "plt.hist(np.random.rand(2,3))\n",
    "plt.show()"
   ]
  },
  {
   "cell_type": "code",
   "execution_count": 29,
   "metadata": {},
   "outputs": [
    {
     "name": "stdout",
     "output_type": "stream",
     "text": [
      "2D array \n",
      " [[ 0.51632066 -1.35435429 -0.31451821]\n",
      " [ 0.82593256 -0.57551924  0.9021615 ]] \n",
      "\n",
      "Manipulated 2D array \n",
      " [[-2.49349183 -3.02037653  1.94428244]\n",
      " [ 1.94738958  3.38466647 -2.6320616 ]]\n"
     ]
    }
   ],
   "source": [
    "# 'randn' - output of a random number from standard normal distribution.\n",
    "# d0, d1, ..., dn : [int, optional]Dimension of the returned array we require \n",
    "# positive int returns a random float in univariate/normal distribution centred around 0\n",
    "\n",
    "# 2D array - 2 rows & 3 colummns\n",
    "print(\"2D array\", \"\\n\",np.random.randn(2, 3), \"\\n\")\n",
    "\n",
    "# 'randn' arrays can be manipulated\n",
    "# 2D array * 2\n",
    "print(\"Manipulated 2D array\", \"\\n\", np.random.randn(2, 3) * 2)\n"
   ]
  },
  {
   "cell_type": "code",
   "execution_count": 27,
   "metadata": {},
   "outputs": [
    {
     "data": {
      "image/png": "[encoded data removed]",
      "text/plain": [
       "<Figure size 432x288 with 1 Axes>"
      ]
     },
     "metadata": {
      "needs_background": "light"
     },
     "output_type": "display_data"
    }
   ],
   "source": [
    "# histogram to show 'randn' function demonstrates normal distribution \n",
    "# 2D array as example\n",
    "\n",
    "plt.hist(np.random.randn(5,4))\n",
    "plt.show()"
   ]
  },
  {
   "cell_type": "code",
   "execution_count": 53,
   "metadata": {},
   "outputs": [
    {
     "name": "stdout",
     "output_type": "stream",
     "text": [
      "Type of the array <class 'int'> \n",
      "\n",
      "Random Integer: 7 \n",
      "\n",
      "Random Integer: 13 \n",
      "\n",
      "Random Array of Integers: [ 3 10 14 11 14]\n"
     ]
    }
   ],
   "source": [
    "# 'randint' is another function in numpy.random\n",
    "# returns random integers from lowest number to highest number\n",
    "#the lowest number entered by the user is included in the returned array but the highest number is excluded\n",
    "# function can take upto 3 inputs\n",
    "\n",
    "#type returns integer or ndarry or ints depending on input\n",
    "#class is an integer\n",
    "print(\"Type of the array\", type(np.random.randint(1)), \"\\n\")\n",
    "\n",
    "#output - random number exluding 15\n",
    "print(\"Random Integer:\", np.random.randint(15), \"\\n\")\n",
    "\n",
    "#output - random number between (3, 15), including 3 but excluding 15\n",
    "print(\"Random Integer:\", np.random.randint(3, 15), \"\\n\")\n",
    "\n",
    "#output - random array of numbers (3, 15, 5)\n",
    "# 3rd input determines the amount of integers within the selected parameters\n",
    "print(\"Random Array of Integers:\", np.random.randint(3, 15, 5))"
   ]
  },
  {
   "cell_type": "code",
   "execution_count": null,
   "metadata": {},
   "outputs": [],
   "source": [
    "\n"
   ]
  }
 ],
 "metadata": {
  "kernelspec": {
   "display_name": "Python 3",
   "language": "python",
   "name": "python3"
  },
  "language_info": {
   "codemirror_mode": {
    "name": "ipython",
    "version": 3
   },
   "file_extension": ".py",
   "mimetype": "text/x-python",
   "name": "python",
   "nbconvert_exporter": "python",
   "pygments_lexer": "ipython3",
   "version": "3.7.1"
  }
 },
 "nbformat": 4,
 "nbformat_minor": 2
}
