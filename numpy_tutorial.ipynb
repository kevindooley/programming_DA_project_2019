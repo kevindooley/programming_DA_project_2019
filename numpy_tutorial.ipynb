{
 "cells": [
  {
   "cell_type": "markdown",
   "metadata": {},
   "source": [
    "# Programming for Data Analysis Project 2019\n",
    "### By Kevin Dooley"
   ]
  },
  {
   "cell_type": "markdown",
   "metadata": {},
   "source": [
    "![](numpy.png)\n",
    " "
   ]
  },
  {
   "cell_type": "markdown",
   "metadata": {},
   "source": [
    "# Title: Tutorial/Review on the 'NumPy' package in Python"
   ]
  },
  {
   "cell_type": "markdown",
   "metadata": {},
   "source": [
    "##### What is NumPy?\n",
    "NimPy stands for Numerical Python and is a library consisting of multidimensional array objects with a collection of functions of processing those arrays. NumPy is a fundamental package for scientific computing with Python. \n",
    "\n",
    "What NumPy can do:\n",
    "- array orientated computing\n",
    "- sophisticated (broadcasting) functions\n",
    "- efficiently implemented multi-dimensional arrays\n",
    "- useful linear algebra, Fourier transform, and random number capabilities\n",
    "- designed for scientific computing\n",
    "\n",
    "NumPy has two important aspects: arrays and number generation. Both of which which will be discussed in this tutorial.\n",
    "\n",
    "NumPy is the Python package of choice for data analysis compared to the normal built in Python Core Library of lists. This is because 'real world' datasets are usually built as matrices and it is much easier to open those with NumPy instead of working with lists. NumPy takes up less memory space and has improved performance compared to the standard library. Numpy also has optimised functions such as linear algebra built into it which make is an overall more attractive package.\n",
    "\n",
    "NumPy is usually used in combination with packages like SciPy and Matplotlib when completing aspects of data analysis. In this tutorial, I will explain the basics of NumPy such as its subpackages and capabilities."
   ]
  },
  {
   "cell_type": "markdown",
   "metadata": {},
   "source": [
    "##### NumPy Arrays\n",
    "Homogeneous multidimensional arrays  are the main objects and foundations of this package. They are in classes called 'ndarrays' and are basically a set of numbers, all of the same type and are indexed by a tuple of nonnegative integers. The dimensions and items of the ndarray are defined by its shape and type of items definded as dtype. Similar to lists in Python, objects in ndarrys can be indexed and sliced."
   ]
  },
  {
   "cell_type": "code",
   "execution_count": 6,
   "metadata": {},
   "outputs": [
    {
     "name": "stdout",
     "output_type": "stream",
     "text": [
      "This is a list [2, 4, 6, 8] \n",
      "\n",
      "The is an Vector [2 4 6 8]\n"
     ]
    },
    {
     "data": {
      "text/plain": [
       "numpy.ndarray"
      ]
     },
     "execution_count": 6,
     "metadata": {},
     "output_type": "execute_result"
    }
   ],
   "source": [
    "import numpy as np # numpy package abbreviated to np\n",
    "#np.array - creates an array\n",
    "#syntax = array(object, dtype = None, copy = True, order = 'K', subok = False, ndmin = 0)\n",
    "#if data type not provided -  \n",
    "#numpy array - 1-d (vector), 2-d/3-d (matrix)\n",
    "\n",
    "#normal list prints\n",
    "new_list = [2, 4, 6, 8]\n",
    "print((\"This is a list\"), new_list, \"\\n\") # line spacing\n",
    "\n",
    "#ndarray prints from list (1-d)\n",
    "my_list = [2, 4, 6, 8]\n",
    "a = np.array(my_list)\n",
    "print(\"The is an Vector\", a)\n",
    "\n",
    "type(a) # verify it is an array"
   ]
  },
  {
   "cell_type": "code",
   "execution_count": 58,
   "metadata": {},
   "outputs": [
    {
     "name": "stdout",
     "output_type": "stream",
     "text": [
      "This is a Matrix \n",
      " [[1 2 3]\n",
      " [4 5 6]\n",
      " [7 8 9]]\n"
     ]
    },
    {
     "data": {
      "text/plain": [
       "numpy.ndarray"
      ]
     },
     "execution_count": 58,
     "metadata": {},
     "output_type": "execute_result"
    }
   ],
   "source": [
    "#ndarray prints from lists\n",
    "matrix = [[1, 2, 3],[4, 5, 6],[7, 8, 9]]\n",
    "x =np.array(matrix)\n",
    "print((\"This is a Matrix\"),(\"\\n\"), x) # line spacing\n",
    "\n",
    "type(x) # shows matrix is a ndarray"
   ]
  },
  {
   "cell_type": "code",
   "execution_count": 57,
   "metadata": {},
   "outputs": [
    {
     "data": {
      "text/plain": [
       "array([ 3. ,  6.1,  9.2, 12.3])"
      ]
     },
     "execution_count": 57,
     "metadata": {},
     "output_type": "execute_result"
    }
   ],
   "source": [
    "#np.arange(start=None, stop=None, step=None, dtype=None)\n",
    "#np.arrange useful for creating large dimensional matrices\n",
    "#np.arange() - 1 dimensional\n",
    "#np.arange.rshape() - 2/3 dimensional\n",
    "np.arange (3, 15, 3.1) # start 3(inclusive), stop 15(exclusive), step, dtype - float because of step\n"
   ]
  },
  {
   "cell_type": "markdown",
   "metadata": {},
   "source": [
    "These are just some small examples of different types of arrays in Numpy. We have seen different examples of arrays in Numpy. The arrays will be used in the genration of so called random numbers."
   ]
  },
  {
   "cell_type": "markdown",
   "metadata": {},
   "source": [
    "### Getting started with NumPy\n",
    "The first step is to import the supporting python packages that work in conjection with NumPy"
   ]
  },
  {
   "cell_type": "code",
   "execution_count": 2,
   "metadata": {},
   "outputs": [],
   "source": [
    "#numpy imported above\n",
    "import matplotlib.pyplot as plt\n",
    "import seaborn as sn\n",
    "\n",
    "# notice abbreviations for each package as these will be used throughout the jupyter notebook"
   ]
  },
  {
   "cell_type": "markdown",
   "metadata": {},
   "source": [
    "### Simple random data\n",
    "#### Define Simple random data\n",
    "Simple random data is set of n objects in a population of N objects where all possible samples are equally likely to happen. Basically it means that any set of numbers in a statistical population has an equal and independent probibility of being selected. A real life example of this is the lottery."
   ]
  },
  {
   "cell_type": "code",
   "execution_count": 2,
   "metadata": {},
   "outputs": [
    {
     "name": "stdout",
     "output_type": "stream",
     "text": [
      "1D Array \n",
      " [0.10025274 0.94629853] \n",
      "\n",
      "2D Array \n",
      " [[0.89719305 0.16550034 0.4319761 ]\n",
      " [0.82536898 0.61672632 0.18118643]] \n",
      "\n",
      "3D array \n",
      " [[[5.39560562e-01 7.57730110e-01 1.95834304e-01]\n",
      "  [3.23424171e-04 5.66945930e-01 1.53652064e-01]\n",
      "  [1.04574006e-01 9.52703036e-01 7.11013379e-01]]\n",
      "\n",
      " [[8.05641831e-01 2.34215138e-01 1.01669117e-01]\n",
      "  [4.08284276e-03 4.91564552e-01 1.81474409e-02]\n",
      "  [5.82180556e-02 8.71116357e-01 5.81823602e-01]]\n",
      "\n",
      " [[3.17374147e-01 9.34366461e-02 6.06987793e-01]\n",
      "  [6.98387409e-02 5.69658257e-01 9.07578400e-01]\n",
      "  [7.06595364e-02 6.79992601e-01 9.62688109e-01]]] \n",
      "\n"
     ]
    }
   ],
   "source": [
    "# numpy.random has many different built in functions to demonstrate matrix arrays\n",
    "# the first one I will demonstrate is np.random.rand()\n",
    "# this function generates random values in a given shape depending on the input from the user\n",
    "# the function can output multidimensional arrays of random numbers\n",
    "# numpy.random.rand creates a ndarry of the given shape and populates it with random samples of a uniform distribution\n",
    "# \"\\n\" used to format arrays - creates a new line\n",
    "\n",
    "# 1 input of the same object type = 1D array\n",
    "print(\"1D Array\",\"\\n\",np.random.rand(2), \"\\n\")\n",
    "\n",
    "# 2 inputs of the same object type = 2D array\n",
    "print(\"2D Array\",\"\\n\",np.random.rand(2, 3), \"\\n\")\n",
    "\n",
    "# 3 inputs of the same object type = 3D array\n",
    "print(\"3D array\",\"\\n\",np.random.rand(3, 3, 3), \"\\n\")\n"
   ]
  },
  {
   "cell_type": "markdown",
   "metadata": {},
   "source": [
    "Visual of different types of arrays\n",
    "![](main-1.png)"
   ]
  },
  {
   "cell_type": "code",
   "execution_count": 3,
   "metadata": {},
   "outputs": [
    {
     "data": {
      "image/png": "[encoded data removed]",
      "text/plain": [
       "<Figure size 432x288 with 1 Axes>"
      ]
     },
     "metadata": {
      "needs_background": "light"
     },
     "output_type": "display_data"
    }
   ],
   "source": [
    "# histogram to show 'rand' function demonstrates uniform distribution\n",
    "# using 2D array as example\n",
    "\n",
    "plt.hist(np.random.rand(2,3))\n",
    "plt.show()"
   ]
  },
  {
   "cell_type": "code",
   "execution_count": 4,
   "metadata": {},
   "outputs": [
    {
     "name": "stdout",
     "output_type": "stream",
     "text": [
      "2D array \n",
      " [[ 2.33914101  0.17123439 -0.84125331]\n",
      " [-0.49880486 -1.25512161 -1.84541286]] \n",
      "\n",
      "Manipulated 2D array \n",
      " [[ 1.52013692 -1.43817309 -0.69790533]\n",
      " [-3.12414753 -2.28856673  5.63302732]]\n"
     ]
    }
   ],
   "source": [
    "# 'randn' - output of a random number from standard normal distribution.\n",
    "# d0, d1, ..., dn : [int, optional]Dimension of the returned array we require \n",
    "# positive int returns a random float in univariate/normal distribution centred around 0\n",
    "\n",
    "# 2D array - 2 rows & 3 colummns\n",
    "print(\"2D array\", \"\\n\",np.random.randn(2, 3), \"\\n\")\n",
    "\n",
    "# 'randn' arrays can be manipulated\n",
    "# 2D array * 2\n",
    "print(\"Manipulated 2D array\", \"\\n\", np.random.randn(2, 3) * 2)\n"
   ]
  },
  {
   "cell_type": "code",
   "execution_count": 5,
   "metadata": {},
   "outputs": [
    {
     "data": {
      "image/png": "[encoded data removed]",
      "text/plain": [
       "<Figure size 432x288 with 1 Axes>"
      ]
     },
     "metadata": {
      "needs_background": "light"
     },
     "output_type": "display_data"
    }
   ],
   "source": [
    "# histogram to show 'randn' function demonstrates normal distribution \n",
    "# 2D array as example\n",
    "\n",
    "plt.hist(np.random.randn(5,4))\n",
    "plt.show()"
   ]
  },
  {
   "cell_type": "code",
   "execution_count": 5,
   "metadata": {},
   "outputs": [
    {
     "name": "stdout",
     "output_type": "stream",
     "text": [
      "Type of the array <class 'int'> \n",
      "\n",
      "Random Integer: 3 \n",
      "\n",
      "Random Integer: 13 \n",
      "\n",
      "Random Array of Integers: [ 5 14  5  6  6]\n"
     ]
    }
   ],
   "source": [
    "# 'randint' is another function in numpy.random\n",
    "# returns random integers from lowest number to highest number\n",
    "#the lowest number entered by the user is included in the returned array but the highest number is excluded\n",
    "# function can take upto 3 inputs\n",
    "\n",
    "#type returns integer or ndarry of ints depending on input\n",
    "#class is an integer\n",
    "print(\"Type of the array\", type(np.random.randint(1)), \"\\n\")\n",
    "\n",
    "#output - random number exluding 15\n",
    "print(\"Random Integer:\", np.random.randint(15), \"\\n\")\n",
    "\n",
    "#output - random number between (3, 15), including 3 but excluding 15\n",
    "print(\"Random Integer:\", np.random.randint(3, 15), \"\\n\")\n",
    "\n",
    "#output - random array of numbers (3, 15, 5)\n",
    "# 3rd input determines the amount of integers within the selected parameters\n",
    "print(\"Random Array of Integers:\", np.random.randint(3, 15, 5))"
   ]
  },
  {
   "cell_type": "code",
   "execution_count": 6,
   "metadata": {},
   "outputs": [
    {
     "name": "stdout",
     "output_type": "stream",
     "text": [
      "1D array : 0.9847316498213545\n"
     ]
    }
   ],
   "source": [
    "#other functions in the numpy.random package that complete the same task\n",
    "#numpy.random.random_sample, numpy.random.ranf, numpy.random.random and numpy.random.sample are very similiar\n",
    "#example of numpy.random.sample\n",
    "# function returns floating point number in a specific shape in the half open intervel [0.0, 1.0)\n",
    "\n",
    "print(\"1D array :\", np.random.random_sample(size=None))\n",
    "# no value entered so single value is automatically returned\n"
   ]
  },
  {
   "cell_type": "code",
   "execution_count": 9,
   "metadata": {},
   "outputs": [
    {
     "name": "stdout",
     "output_type": "stream",
     "text": [
      "Random integer: 5 \n",
      "\n",
      "Random array: [5 8 9 5]\n"
     ]
    }
   ],
   "source": [
    "#numpy.random.choice is another function for generating pseudo random data\n",
    "# np.random.choice(a=input, size= sixe of output, replace= y/n, p=probability\n",
    "\n",
    "np.random.seed(0) # set seed for number generation\n",
    "t=np.arange(10) # in a range to (but not including) 10\n",
    "x = np.random.choice(t) # choice() 'randomly' selects a number in the range\n",
    "print(\"Random integer:\",x, \"\\n\") # spacing\n",
    "\n",
    "\n",
    "np.random.seed(1) #changed seed\n",
    "a = np.random.choice(10, 4) # returns 4 numbers from range 0-10\n",
    "print(\"Random array:\", a)"
   ]
  },
  {
   "cell_type": "markdown",
   "metadata": {},
   "source": [
    "##### Random data permutations\n",
    "\n",
    "The ordering of a set of objects that is fundamental to field sthat used randomised algorithms such as coding and cryptograpy. A modern example of this is shuffling a 52 deck of cards.\n",
    "\n",
    "Permutation functions have the capability to arrange a set of numbers into another random sequence. There are two tyoes of permutated functions - random.permutation and random.shuffle."
   ]
  },
  {
   "cell_type": "code",
   "execution_count": 8,
   "metadata": {},
   "outputs": [
    {
     "name": "stdout",
     "output_type": "stream",
     "text": [
      "Permuted 1D array: [5 1 0 4 3 2] \n",
      "\n",
      "Permuted 1D array: [5 6 3 4]\n"
     ]
    }
   ],
   "source": [
    "# np.random.permutation() randomly permutes a sequence/returns a permuted range\n",
    "#if x in an integer, the function will randomly permute np.arrange(x)\n",
    "\n",
    "#example permutation(integer) = array of numbers 0 to 5 in a random sequence\n",
    "print(\"Permuted 1D array:\",np.random.permutation(6), \"\\n\")\n",
    "\n",
    "#example permutation(array) = copied array but changed order\n",
    "print(\"Permuted 1D array:\", np.random.permutation([3, 6, 4, 5]))"
   ]
  },
  {
   "cell_type": "code",
   "execution_count": 10,
   "metadata": {},
   "outputs": [
    {
     "name": "stdout",
     "output_type": "stream",
     "text": [
      "Shuffled 1D array \n",
      " [12 11  3 13  8  5 10  4  2  9  6  7  1 14  0] \n",
      "\n",
      "Shuffled 2D array \n",
      " [[10 11 12 13 14]\n",
      " [ 5  6  7  8  9]\n",
      " [ 0  1  2  3  4]] \n",
      "\n"
     ]
    }
   ],
   "source": [
    "#numpy.random.shuffle()\n",
    "#function modifies a sequence in-place by shuffling its contents\n",
    "#Array only shuffled along the first axis of multidimensional arrays\n",
    "#sub arrays order changed but contents remian the same\n",
    "\n",
    "#numbers in array randomly changed from 0 to 15\n",
    "x1 = np.arange(15) # arange 1 dimensional\n",
    "np.random.shuffle(x1)\n",
    "print(\"Shuffled 1D array\", \"\\n\", x1, \"\\n\")\n",
    "\n",
    "#multidimensional array\n",
    "#the order of each row changes each time algorithm is run. Contenst in each row remainS the same.\n",
    "x2 = np.arange(15).reshape(3,5) # reshape 2/3 dimensional\n",
    "np.random.shuffle(x2)\n",
    "print(\"Shuffled 2D array\", \"\\n\", x2, \"\\n\")\n"
   ]
  },
  {
   "cell_type": "markdown",
   "metadata": {},
   "source": [
    "#### Distribution Functions\n",
    "In this section of the tutorial, I will discuss five Distribution functions. They will include:\n",
    "* binomial\n",
    "* normal\n",
    "* uniform\n",
    "* poisson\n",
    "* eponential"
   ]
  },
  {
   "cell_type": "markdown",
   "metadata": {},
   "source": [
    "### Binomial Distribution\n",
    "The binomial distribution model deals with finding the probability of success of an event which has only two possible outcomes in a series of experiments. The most known example of binomial probability is 'coin flipping' in which only heads/tails are the possible options.\n",
    "\n",
    "A Binomial distribution as two assumptions.\n",
    "\n",
    "* The Probability of a success or failure should remain constant across events\n",
    "* Outcome of one event is completely independent of outcomes of other events\n",
    "\n",
    "Seaborn library and scipy package are useful for  creating binomial distribution graphs."
   ]
  },
  {
   "cell_type": "code",
   "execution_count": 28,
   "metadata": {},
   "outputs": [
    {
     "name": "stdout",
     "output_type": "stream",
     "text": [
      "[268 253 248 255 264 262 254 244 255 270 277 255 234 239 265 249 251 256\n",
      " 264 244]\n"
     ]
    }
   ],
   "source": [
    "#np.random.binomial(n, p, size)\n",
    "#n = number of trials\n",
    "#p = probability of success\n",
    "# size = times tested\n",
    "\n",
    "binom = np.random.binomial(500, .5, 20)\n",
    "print(binom)\n",
    "#the result of the above function is consistent with probability of 50% \n",
    "# ie 268/500 = 53.6% & 50.6% etc"
   ]
  },
  {
   "cell_type": "code",
   "execution_count": 32,
   "metadata": {},
   "outputs": [],
   "source": [
    "from scipy.stats import binom\n",
    "# notice abbreviation"
   ]
  },
  {
   "cell_type": "code",
   "execution_count": 6,
   "metadata": {
    "scrolled": true
   },
   "outputs": [
    {
     "data": {
      "text/plain": [
       "[Text(0, 0.5, 'Frequency'), Text(0.5, 0, 'Binomial Distribution')]"
      ]
     },
     "execution_count": 6,
     "metadata": {},
     "output_type": "execute_result"
    },
    {
     "data": {
      "image/png": "[encoded data removed]",
      "text/plain": [
       "<Figure size 432x288 with 1 Axes>"
      ]
     },
     "metadata": {
      "needs_background": "light"
     },
     "output_type": "display_data"
    }
   ],
   "source": [
    "#binomial discrete random variable\n",
    "# discrete variable = whose variable is obtained by counting\n",
    "random_binom = binom.rvs(n=20, p=.9 , size=10000)\n",
    "#used distplot to show random binonial distribution\n",
    "#set colour, density of the plot, linewidth and labels\n",
    "plot = sn.distplot(random_binom, kde=False, color=\"r\", hist_kws={\"linewidth\":5, \"alpha\":1})\n",
    "plot.set(xlabel=\"Binomial Distribution\", ylabel=\"Frequency\")\n",
    "\n",
    "#the data is skewed to the right because the probability is 90%. If p was .5 = the plot would be more distributed around the centre"
   ]
  },
  {
   "cell_type": "markdown",
   "metadata": {},
   "source": [
    "#### Normal Distribution\n",
    "The normal distribution is a probability function that describes how the values of a variable are distributed.\n",
    "Normal distribution is also known as the Gaussian distribution. A normal distribution has a bell-shaped density curve centred around its mean. A noral distribution curve will be symmetrical, centred around the mean and its spread determined by its standard deviation, showing that data near the mean are more frequent in occurence than data away from the mean. \n",
    "\n",
    "numpy.random.normal is more likely to return samples close to the mean rather than those far away because it is at its peak at the mean. Extreme values in both tails of the distribution are similarly unlikely.\n",
    "\n",
    "The normal distribution can and is regulary used to demonstrate IQ/test scores, heights and blood pressure because they all can follow normal distribution.\n",
    "\n",
    "In normal distribution, the mean defines the location of the peaks while the standard deviation is the measure of the variability."
   ]
  },
  {
   "cell_type": "code",
   "execution_count": 13,
   "metadata": {},
   "outputs": [
    {
     "name": "stdout",
     "output_type": "stream",
     "text": [
      "Random integer with normal distribution: \n",
      " 4.114833654896223 \n",
      "\n",
      "Random array with normal distribution: \n",
      " [[49.46753841 50.34558368 49.57448596 47.76122862 51.75539696]\n",
      " [49.73580664 50.84629447 52.0867325  50.52647831 50.983809  ]] \n",
      "\n",
      "Random integer with normal distribution: \n",
      " [ 8.07779999  9.10517477 10.33006282 11.048591   11.34989935 11.24567511\n",
      "  9.30880853 11.28107338  9.27293569  9.20083131]\n"
     ]
    }
   ],
   "source": [
    "#loc=mean & scale=std\n",
    "#generate single number drawn from normal distribution\n",
    "#with mean of 0 and std of 1\n",
    "#no need to specify mean and std, default loc=0 and scale=1\n",
    "x=np.random.normal(1)\n",
    "print(\"Random integer with normal distribution:\", \"\\n\", x, \"\\n\")\n",
    "\n",
    "#generate 2 arrays of 5 values centred around a mean of 50\n",
    "y=np.random.normal(loc=50, size=(2,5))\n",
    "print(\"Random array with normal distribution:\", \"\\n\", y, \"\\n\")\n",
    "\n",
    "#genrates 10 samples distributed around a mean of 10\n",
    "z=np.random.normal(loc=10,scale=1, size=(10))\n",
    "print(\"Random integer with normal distribution:\", \"\\n\", z)"
   ]
  },
  {
   "cell_type": "code",
   "execution_count": 35,
   "metadata": {},
   "outputs": [
    {
     "data": {
      "text/plain": [
       "[Text(0, 0.5, 'Frequency'), Text(0.5, 0, 'Normal Distribution')]"
      ]
     },
     "execution_count": 35,
     "metadata": {},
     "output_type": "execute_result"
    },
    {
     "data": {
      "image/png": "[encoded data removed]",
      "text/plain": [
       "<Figure size 432x288 with 1 Axes>"
      ]
     },
     "metadata": {
      "needs_background": "light"
     },
     "output_type": "display_data"
    }
   ],
   "source": [
    "from scipy.stats import norm\n",
    "\n",
    "#using scipy and seaborn to plot a normal distribution plot \n",
    "random_norm = norm.rvs(loc=0, scale=1 , size=10000)\n",
    "#kde - density line, colour, line width\n",
    "plot = sn.distplot(random_norm, kde=True, color=\"b\", hist_kws={\"linewidth\":5, \"alpha\":1})\n",
    "#plot labels\n",
    "plot.set(xlabel=\"Normal Distribution\", ylabel=\"Frequency\")"
   ]
  },
  {
   "cell_type": "markdown",
   "metadata": {},
   "source": [
    "#### Uniform distribution\n",
    "A uniform distribution, sometimes also known as a rectangular distribution, is a distribution that has constant probability.\n",
    "\n",
    "It refers to a probability distribution for which all of the values that a random variable can take on occur with equal probability\n",
    "\n",
    "The term \"uniform distribution\" is also used to describe the shape of a graph that plots observed values in a set of data. Graphically, when the observed values in a set of data are equally spread across the range of the data set, the distribution is also called a uniform distribution. Graphically, a uniform distribution has no distinct peaks.\n",
    "\n",
    "Samples are uniformly distributed over the half open interval [low, high]. Meaning any value including the lowest but excluding the highest are equally likely to be drawn uniform."
   ]
  },
  {
   "cell_type": "code",
   "execution_count": 19,
   "metadata": {},
   "outputs": [
    {
     "name": "stdout",
     "output_type": "stream",
     "text": [
      "Uniform distibution: [0.78695147 0.06406733 0.35531036 0.94183695 0.37980329 0.76292007\n",
      " 0.771595   0.3013605  0.77273915 0.15292982] \n",
      "\n",
      "[5.78633931 0.09007997 7.09042522 4.70640808 7.6459257  4.67392683\n",
      " 2.69001051 8.31692589 5.51324941 0.70081496 4.72475038 7.4276483\n",
      " 1.91956078 4.64311503 2.30362808 5.08247538 2.08568312 0.49304245\n",
      " 5.18861876 1.72278352 3.96313288 1.07365303 5.09810278 1.02135233\n",
      " 2.88717833 2.31758465 9.67667929 2.78318838 2.33622523 0.91556442\n",
      " 5.7006666  4.17926539 3.67843241 8.1299497  2.89760003 7.17391601\n",
      " 6.12948093 4.26909826 7.5187297  4.27812633 4.28382405 3.61904443\n",
      " 1.53338478 9.37190324 9.16409873 7.81958462 6.16328945 0.35999436\n",
      " 6.54323772 1.29769609 2.94359475 3.60814754 2.74645151 0.73968994\n",
      " 1.52137158 1.61618525 9.387117   3.71133901 0.50018086 7.40955556\n",
      " 2.98680242 2.04358128 9.81756641 8.93021212 7.59348795 6.51120559\n",
      " 0.39683502 8.13876365 7.62573135 4.55282467 5.31826451 1.09336068\n",
      " 1.46032746 5.08788739 2.15650281 9.16443703 4.62152513 1.32267274\n",
      " 7.64241609 2.12733698 0.74258433 0.95419249 1.6220551  3.5646368\n",
      " 0.95307811 1.43263006 9.31012933 5.76584216 8.39645214 6.23292113\n",
      " 3.24517496 7.28011643 5.2273663  7.36811466 1.65406115 6.87058292\n",
      " 4.2681084  7.28557398 7.56335392 3.97611282]\n"
     ]
    }
   ],
   "source": [
    "#numpy.random.uniform(a,b) = genrate random nuber in uniform distribution where user determines interval from a to b\n",
    "#low = lowest boundary of interval, default is 0\n",
    "#high = highest boundry, default = 1\n",
    "#size = number of trials\n",
    "\n",
    "#import uniform distribution\n",
    "from scipy.stats import uniform\n",
    "\n",
    "#all samples between 0 & 1\n",
    "uniform_example = uniform.rvs(size=10)\n",
    "print(\"Uniform distibution:\", uniform_example, \"\\n\")\n",
    "\n",
    "#generate 100 numbers from 0 to 10 in uniform distribution\n",
    "data_uniform = uniform.rvs(size=100, loc = 0, scale=10)\n",
    "print(data_uniform)"
   ]
  },
  {
   "cell_type": "code",
   "execution_count": 20,
   "metadata": {},
   "outputs": [
    {
     "ename": "NameError",
     "evalue": "name 'sn' is not defined",
     "output_type": "error",
     "traceback": [
      "\u001b[1;31m---------------------------------------------------------------------------\u001b[0m",
      "\u001b[1;31mNameError\u001b[0m                                 Traceback (most recent call last)",
      "\u001b[1;32m<ipython-input-20-bf05b2d7ebfe>\u001b[0m in \u001b[0;36m<module>\u001b[1;34m\u001b[0m\n\u001b[0;32m      3\u001b[0m \u001b[0mrandom_uniform\u001b[0m \u001b[1;33m=\u001b[0m \u001b[0muniform\u001b[0m\u001b[1;33m.\u001b[0m\u001b[0mrvs\u001b[0m\u001b[1;33m(\u001b[0m\u001b[0mloc\u001b[0m\u001b[1;33m=\u001b[0m\u001b[1;36m0\u001b[0m\u001b[1;33m,\u001b[0m \u001b[0mscale\u001b[0m\u001b[1;33m=\u001b[0m\u001b[1;36m10\u001b[0m \u001b[1;33m,\u001b[0m \u001b[0msize\u001b[0m\u001b[1;33m=\u001b[0m\u001b[1;36m10000\u001b[0m\u001b[1;33m)\u001b[0m\u001b[1;33m\u001b[0m\u001b[1;33m\u001b[0m\u001b[0m\n\u001b[0;32m      4\u001b[0m \u001b[1;31m#density-yes, colour, linewidth\u001b[0m\u001b[1;33m\u001b[0m\u001b[1;33m\u001b[0m\u001b[1;33m\u001b[0m\u001b[0m\n\u001b[1;32m----> 5\u001b[1;33m \u001b[0mplot\u001b[0m \u001b[1;33m=\u001b[0m \u001b[0msn\u001b[0m\u001b[1;33m.\u001b[0m\u001b[0mdistplot\u001b[0m\u001b[1;33m(\u001b[0m\u001b[0mrandom_uniform\u001b[0m\u001b[1;33m,\u001b[0m \u001b[0mkde\u001b[0m\u001b[1;33m=\u001b[0m\u001b[1;32mTrue\u001b[0m\u001b[1;33m,\u001b[0m \u001b[0mcolor\u001b[0m\u001b[1;33m=\u001b[0m\u001b[1;34m\"g\"\u001b[0m\u001b[1;33m,\u001b[0m \u001b[0mhist_kws\u001b[0m\u001b[1;33m=\u001b[0m\u001b[1;33m{\u001b[0m\u001b[1;34m\"linewidth\"\u001b[0m\u001b[1;33m:\u001b[0m\u001b[1;36m5\u001b[0m\u001b[1;33m,\u001b[0m \u001b[1;34m\"alpha\"\u001b[0m\u001b[1;33m:\u001b[0m\u001b[1;36m1\u001b[0m\u001b[1;33m}\u001b[0m\u001b[1;33m)\u001b[0m\u001b[1;33m\u001b[0m\u001b[1;33m\u001b[0m\u001b[0m\n\u001b[0m\u001b[0;32m      6\u001b[0m \u001b[1;31m#plot labels\u001b[0m\u001b[1;33m\u001b[0m\u001b[1;33m\u001b[0m\u001b[1;33m\u001b[0m\u001b[0m\n\u001b[0;32m      7\u001b[0m \u001b[0mplot\u001b[0m\u001b[1;33m.\u001b[0m\u001b[0mset\u001b[0m\u001b[1;33m(\u001b[0m\u001b[0mxlabel\u001b[0m\u001b[1;33m=\u001b[0m\u001b[1;34m\"Uniform Distribution\"\u001b[0m\u001b[1;33m,\u001b[0m \u001b[0mylabel\u001b[0m\u001b[1;33m=\u001b[0m\u001b[1;34m\"Frequency\"\u001b[0m\u001b[1;33m)\u001b[0m\u001b[1;33m\u001b[0m\u001b[1;33m\u001b[0m\u001b[0m\n",
      "\u001b[1;31mNameError\u001b[0m: name 'sn' is not defined"
     ]
    }
   ],
   "source": [
    "#using scipy and seaborn to plot a uniform distribution plot \n",
    "#10000 numbers between 0 & 10 over uniform distribution\n",
    "random_uniform = uniform.rvs(loc=0, scale=10 , size=10000)\n",
    "#density-yes, colour, linewidth\n",
    "plot = sn.distplot(random_uniform, kde=True, color=\"g\", hist_kws={\"linewidth\":5, \"alpha\":1})\n",
    "#plot labels\n",
    "plot.set(xlabel=\"Uniform Distribution\", ylabel=\"Frequency\")"
   ]
  },
  {
   "cell_type": "code",
   "execution_count": 15,
   "metadata": {},
   "outputs": [
    {
     "ename": "NameError",
     "evalue": "name 'uniform' is not defined",
     "output_type": "error",
     "traceback": [
      "\u001b[1;31m---------------------------------------------------------------------------\u001b[0m",
      "\u001b[1;31mNameError\u001b[0m                                 Traceback (most recent call last)",
      "\u001b[1;32m<ipython-input-15-3ce468ebc037>\u001b[0m in \u001b[0;36m<module>\u001b[1;34m\u001b[0m\n\u001b[0;32m      1\u001b[0m \u001b[1;31m#uniform distribution plot using default interval\u001b[0m\u001b[1;33m\u001b[0m\u001b[1;33m\u001b[0m\u001b[1;33m\u001b[0m\u001b[0m\n\u001b[1;32m----> 2\u001b[1;33m \u001b[0mrandom_uniform_default\u001b[0m \u001b[1;33m=\u001b[0m \u001b[0muniform\u001b[0m\u001b[1;33m.\u001b[0m\u001b[0mrvs\u001b[0m\u001b[1;33m(\u001b[0m\u001b[0msize\u001b[0m\u001b[1;33m=\u001b[0m\u001b[1;36m10000\u001b[0m\u001b[1;33m)\u001b[0m\u001b[1;33m\u001b[0m\u001b[1;33m\u001b[0m\u001b[0m\n\u001b[0m\u001b[0;32m      3\u001b[0m \u001b[1;31m#density-yes, colour, linewidth\u001b[0m\u001b[1;33m\u001b[0m\u001b[1;33m\u001b[0m\u001b[1;33m\u001b[0m\u001b[0m\n\u001b[0;32m      4\u001b[0m \u001b[0mplot\u001b[0m \u001b[1;33m=\u001b[0m \u001b[0msn\u001b[0m\u001b[1;33m.\u001b[0m\u001b[0mdistplot\u001b[0m\u001b[1;33m(\u001b[0m\u001b[0mrandom_uniform_default\u001b[0m\u001b[1;33m,\u001b[0m \u001b[0mkde\u001b[0m\u001b[1;33m=\u001b[0m\u001b[1;32mTrue\u001b[0m\u001b[1;33m,\u001b[0m \u001b[0mcolor\u001b[0m\u001b[1;33m=\u001b[0m\u001b[1;34m\"g\"\u001b[0m\u001b[1;33m,\u001b[0m \u001b[0mhist_kws\u001b[0m\u001b[1;33m=\u001b[0m\u001b[1;33m{\u001b[0m\u001b[1;34m\"linewidth\"\u001b[0m\u001b[1;33m:\u001b[0m\u001b[1;36m5\u001b[0m\u001b[1;33m,\u001b[0m \u001b[1;34m\"alpha\"\u001b[0m\u001b[1;33m:\u001b[0m\u001b[1;36m1\u001b[0m\u001b[1;33m}\u001b[0m\u001b[1;33m)\u001b[0m\u001b[1;33m\u001b[0m\u001b[1;33m\u001b[0m\u001b[0m\n\u001b[0;32m      5\u001b[0m \u001b[1;31m#plot labels\u001b[0m\u001b[1;33m\u001b[0m\u001b[1;33m\u001b[0m\u001b[1;33m\u001b[0m\u001b[0m\n",
      "\u001b[1;31mNameError\u001b[0m: name 'uniform' is not defined"
     ]
    }
   ],
   "source": [
    "#uniform distribution plot using default interval\n",
    "random_uniform_default = uniform.rvs(size=10000)\n",
    "#density-yes, colour, linewidth\n",
    "plot = sn.distplot(random_uniform_default, kde=True, color=\"g\", hist_kws={\"linewidth\":5, \"alpha\":1})\n",
    "#plot labels\n",
    "plot.set(xlabel=\" Default Uniform Distribution\", ylabel=\"Frequency\")"
   ]
  },
  {
   "cell_type": "markdown",
   "metadata": {},
   "source": [
    "#### Poisson Distribution\n",
    "\n",
    "A Poisson distribution is a tool that helps to predict the probability of certain events from happening when you know how often the event has occurred. It gives us the probability of a given number of events happening in a fixed interval of time.\n",
    "Poisson distribution is used for count-based distributions where these events happen with a known average rate and independently of the time since the last event. The Poisson distribution is a discrete function, meaning that the event can only be measured as occurring or not as occurring, meaning the variable can only be measured in whole numbers."
   ]
  },
  {
   "cell_type": "code",
   "execution_count": 16,
   "metadata": {},
   "outputs": [
    {
     "data": {
      "text/plain": [
       "[Text(0, 0.5, 'Frequency'), Text(0.5, 0, 'Poisson Distribution')]"
      ]
     },
     "execution_count": 16,
     "metadata": {},
     "output_type": "execute_result"
    },
    {
     "data": {
      "image/png": "[encoded data removed]",
      "text/plain": [
       "<Figure size 432x288 with 1 Axes>"
      ]
     },
     "metadata": {
      "needs_background": "light"
     },
     "output_type": "display_data"
    }
   ],
   "source": [
    "from scipy.stats import poisson\n",
    "#mu = mean set at 3\n",
    "poisson_plot = poisson.rvs(mu=3, size=10000)\n",
    "#density-no, colour, linewidth\n",
    "PP = sn.distplot(poisson_plot, \n",
    "                  kde=False,\n",
    "                  color='skyblue',\n",
    "                  hist_kws={\"linewidth\": 15,'alpha':1})\n",
    "#plot labels\n",
    "PP.set(xlabel='Poisson Distribution', ylabel='Frequency')"
   ]
  },
  {
   "cell_type": "markdown",
   "metadata": {},
   "source": [
    "##### Exponential Distribution\n",
    "The exponential distribution represents a process in which events occur continuously and independently at a constant average rate."
   ]
  },
  {
   "cell_type": "code",
   "execution_count": 7,
   "metadata": {
    "scrolled": true
   },
   "outputs": [
    {
     "data": {
      "text/plain": [
       "[Text(0, 0.5, 'Frequency'), Text(0.5, 0, 'Exponential Distribution')]"
      ]
     },
     "execution_count": 7,
     "metadata": {},
     "output_type": "execute_result"
    },
    {
     "data": {
      "image/png": "[encoded data removed]",
      "text/plain": [
       "<Figure size 432x288 with 1 Axes>"
      ]
     },
     "metadata": {
      "needs_background": "light"
     },
     "output_type": "display_data"
    }
   ],
   "source": [
    "#numpy.random.exponential(scale=1.0, size=None)\n",
    "#scale= \\beta = 1/\\lambda. size = no. samples to draw\n",
    "from scipy.stats import expon\n",
    "#use built in expon.rvs\n",
    "expon_plot = expon.rvs(scale=1,size=1000)\n",
    "#density-yes, colour, bin size and linewidth\n",
    "plot_expon = sn.distplot(expon_plot, kde=True,bins=100, color='skyblue', hist_kws={\"linewidth\": 15,'alpha':1})\n",
    "#Labels\n",
    "plot_expon.set(xlabel='Exponential Distribution', ylabel='Frequency')"
   ]
  },
  {
   "cell_type": "markdown",
   "metadata": {},
   "source": [
    "#### The function of seeds in generating pseudo random numbers\n",
    "The seed method in numpy is used to initialize the pseudorandom number generator in Python. \n",
    "The numpy.random functions/modules are not truly random, they are what is called pseudo-random. Which basically means, it creates the numbers from some original value (known as the seed value). A computer cannot be completely random, they are deterministic machines. Computers are given designated inputs which they follow precisely to produce an output.\n",
    "The numpy random module uses the seed value as a base to generate a random number. If seed value is not present, it takes a system current time.\n",
    "\n",
    "The random.seed function works in combination with all the random generating modules within numpy, for example random.rand, random.randint, random.choice and randn. \n",
    "\n",
    "The np.random.seed function provides and input for the pseudo-random number generator in Python.\n",
    "\n",
    "Essentially, NumPy random seed is used when we need to generate pseudo-random numbers in a repeatable way."
   ]
  },
  {
   "cell_type": "code",
   "execution_count": 22,
   "metadata": {},
   "outputs": [
    {
     "name": "stdout",
     "output_type": "stream",
     "text": [
      "Random number with seed 8: 0.8734294027918162\n",
      "Random number with seed 8: 0.8734294027918162\n",
      "Random number with seed 8: 0.8734294027918162\n"
     ]
    }
   ],
   "source": [
    "#numpy. random.seed(seed=None) - seed = integer/1-d array\n",
    "#if seed = None, the systems current time is taken\n",
    "\n",
    "np.random.seed(8)\n",
    "print(\"Random number with seed 8:\", np.random.rand())\n",
    "#the same number keeps generating because the seed remains constant.\n",
    "np.random.seed(8)\n",
    "print(\"Random number with seed 8:\", np.random.rand())\n",
    "np.random.seed(8)\n",
    "print(\"Random number with seed 8:\", np.random.rand())\n",
    "#the same number generated 3 times"
   ]
  },
  {
   "cell_type": "code",
   "execution_count": 26,
   "metadata": {},
   "outputs": [
    {
     "name": "stdout",
     "output_type": "stream",
     "text": [
      "Random number with seed 8: 0.8734294027918162 \n",
      "\n",
      "Random number with seed : 0.968540662820932 \n",
      "\n",
      "Random number with seed : 0.86919454021392 \n",
      "\n",
      "Random number with seed 8: 0.8734294027918162 \n",
      "\n"
     ]
    }
   ],
   "source": [
    "#the seed is the fountain of generating pseudo-random numbers and defines what # will be generated next\n",
    "#seed value is 8\n",
    "np.random.seed(8)\n",
    "print(\"Random number with seed 8:\", np.random.rand(), \"\\n\")\n",
    "\n",
    "#by not selecting seed 8 again the number generated by randint changes\n",
    "#the new number generated becomes the new seed unless changed by user\n",
    "print(\"Random number with seed :\", np.random.rand(), \"\\n\")\n",
    "#number changes again because the seed is different\n",
    "print(\"Random number with seed :\", np.random.rand(), \"\\n\")\n",
    "\n",
    "#seed is 8 - output is the same as seed 8 above\n",
    "np.random.seed(8)\n",
    "print(\"Random number with seed 8:\", np.random.rand(), \"\\n\")"
   ]
  },
  {
   "cell_type": "code",
   "execution_count": 28,
   "metadata": {},
   "outputs": [
    {
     "name": "stdout",
     "output_type": "stream",
     "text": [
      "Original Sequence: [1, 2, 3, 4, 5] \n",
      "\n",
      "shuffled sequence: [1, 4, 2, 5, 3] \n",
      "\n",
      "2nd shuffled sequence: [1, 4, 2, 5, 3] \n",
      "\n",
      "[['Project'], ['Data'], 'Hi', ['Kevin']]\n"
     ]
    }
   ],
   "source": [
    "#random.seed can be used in combination with random.shuffle\n",
    "#random.seed & random.shuffle together will result in same sequence each shuffle\n",
    "#can also be used with lists of words\n",
    "\n",
    "#first sequence\n",
    "number_sequence=[1, 2, 3, 4, 5]\n",
    "print(\"Original Sequence:\", number_sequence, \"\\n\")\n",
    "\n",
    "#2nd sequence with seed & shuffle. Sequence will change\n",
    "np.random.seed(4)\n",
    "np.random.shuffle(number_sequence)\n",
    "print(\"shuffled sequence:\", number_sequence, \"\\n\")\n",
    "\n",
    "#3rd sequence with seed & shuffle. Sequence will remain same as 2nd\n",
    "#sequence remains the same because seed is constant\n",
    "number_sequence=[1, 2, 3, 4, 5]\n",
    "np.random.seed(4)\n",
    "np.random.shuffle(number_sequence)\n",
    "print(\"2nd shuffled sequence:\", number_sequence, \"\\n\")\n",
    "\n",
    "#words shuffled\n",
    "words=[\"Hi\"], [\"Kevin\"], [\"Data\"], [\"Project\"]]\n",
    "np.random.seed(1)\n",
    "np.random.shuffle(words)\n",
    "print(words)"
   ]
  },
  {
   "cell_type": "markdown",
   "metadata": {},
   "source": [
    "#### Conclusion\n",
    "Numpy is a basic, easy to use but powerful package for scientific computing and data manipulation in python. It seamlessly works in conjuction with seaborn to illustrate easy to visualise plots. The numpy.random function makes it easy to generate 'random' numbers (a.k.a pseudo-random numbers) and use them to complete statisitical analysis on random data.\n",
    "\n",
    "The was an interesting and challenging project because while the Numpy & Scipy documentation contains all the information to use the packages correctly, they are written using top level terms assuming you have a strong knowledge prior python. This assignment has been great to learn the basics step by step. As I progressed, I began to understand the documentation and methodology of the NumPy package and its functions.\n",
    "\n",
    "Completing this assignment was a great way to develop NumPy understanding and is a step in the correct direction for machine and deep learning.\n"
   ]
  },
  {
   "cell_type": "code",
   "execution_count": null,
   "metadata": {},
   "outputs": [],
   "source": []
  }
 ],
 "metadata": {
  "kernelspec": {
   "display_name": "Python 3",
   "language": "python",
   "name": "python3"
  },
  "language_info": {
   "codemirror_mode": {
    "name": "ipython",
    "version": 3
   },
   "file_extension": ".py",
   "mimetype": "text/x-python",
   "name": "python",
   "nbconvert_exporter": "python",
   "pygments_lexer": "ipython3",
   "version": "3.7.1"
  }
 },
 "nbformat": 4,
 "nbformat_minor": 2
}
